{
 "cells": [
  {
   "cell_type": "code",
   "execution_count": 2,
   "metadata": {},
   "outputs": [],
   "source": [
    "import numpy as np\n",
    "import pandas as pd\n",
    "import string\n",
    "import random\n",
    "import os\n",
    "import matplotlib.pyplot as plt\n",
    "import time\n",
    "\n",
    "import tensorflow as tf\n",
    "from tensorflow.keras import optimizers, regularizers\n",
    "from tensorflow.keras import backend as K\n",
    "import tensorflow.keras.layers as L\n",
    "from tensorflow.keras.preprocessing import sequence\n",
    "from tensorflow.keras.preprocessing.text import Tokenizer\n",
    "from tensorflow.keras.callbacks import EarlyStopping, Callback, ModelCheckpoint\n",
    "from tensorflow.keras import utils\n",
    "\n",
    "import sklearn\n",
    "from sklearn.model_selection import KFold, StratifiedKFold, train_test_split\n",
    "from sklearn.preprocessing import LabelEncoder\n",
    "import pickle\n",
    "\n",
    "import pymystem3\n",
    "from pymystem3 import Mystem"
   ]
  },
  {
   "cell_type": "code",
   "execution_count": 3,
   "metadata": {},
   "outputs": [
    {
     "name": "stdout",
     "output_type": "stream",
     "text": [
      "pandas version:  1.2.2\n",
      "numpy version:  1.19.5\n",
      "sklearn version:  0.23.2\n",
      "pymystem3 version:  0.2.0\n"
     ]
    }
   ],
   "source": [
    "print(\"pandas version: \", pd.__version__)\n",
    "print(\"numpy version: \", np.__version__)\n",
    "print(\"sklearn version: \", sklearn.__version__)\n",
    "print(\"pymystem3 version: \", pymystem3.__version__)"
   ]
  },
  {
   "cell_type": "code",
   "execution_count": 4,
   "metadata": {},
   "outputs": [],
   "source": [
    "seed=42    \n",
    "random.seed(seed)\n",
    "np.random.seed(seed)\n",
    "tf.random.set_seed(seed)"
   ]
  },
  {
   "cell_type": "code",
   "execution_count": 4,
   "metadata": {},
   "outputs": [],
   "source": [
    "os.environ['TF_FORCE_GPU_ALLOW_GROWTH'] = 'true' # вычисления на GPU"
   ]
  },
  {
   "cell_type": "code",
   "execution_count": 5,
   "metadata": {},
   "outputs": [],
   "source": [
    "# кастоиная функции f-меры\n",
    "def recall_m(y_true, y_pred):\n",
    "    true_positives = K.sum(K.round(K.clip(y_true * y_pred, 0, 1)))\n",
    "    possible_positives = K.sum(K.round(K.clip(y_true, 0, 1)))\n",
    "    recall = true_positives / (possible_positives + K.epsilon())\n",
    "    return recall\n",
    "\n",
    "def precision_m(y_true, y_pred):\n",
    "    true_positives = K.sum(K.round(K.clip(y_true * y_pred, 0, 1)))\n",
    "    predicted_positives = K.sum(K.round(K.clip(y_pred, 0, 1)))\n",
    "    precision = true_positives / (predicted_positives + K.epsilon())\n",
    "    return precision\n",
    "\n",
    "def f1_m(y_true, y_pred):\n",
    "    precision = precision_m(y_true, y_pred)\n",
    "    recall = recall_m(y_true, y_pred)\n",
    "    return 2*((precision*recall)/(precision+recall+K.epsilon()))"
   ]
  },
  {
   "cell_type": "code",
   "execution_count": 5,
   "metadata": {},
   "outputs": [],
   "source": [
    "def RemovePunctuation(text):\n",
    "    if str(text)!='nan':\n",
    "        text = text.lower()\n",
    "        translator = str.maketrans('', '', string.punctuation)\n",
    "        return text.translate(translator)\n",
    "    else:\n",
    "        return text"
   ]
  },
  {
   "cell_type": "code",
   "execution_count": 6,
   "metadata": {},
   "outputs": [],
   "source": [
    "train = pd.read_csv('train.csv')\n",
    "target_typology = train['typology'].unique().tolist()\n",
    "train_url_only = pd.read_csv(\"train_url_only.csv\").drop(columns='url')"
   ]
  },
  {
   "cell_type": "code",
   "execution_count": 7,
   "metadata": {},
   "outputs": [],
   "source": [
    "train = pd.concat([train, train_url_only]).query(\"description.notnull()\", engine='python')"
   ]
  },
  {
   "cell_type": "code",
   "execution_count": 8,
   "metadata": {},
   "outputs": [],
   "source": [
    "#фильтрую нужный таргет\n",
    "train['is_train_target'] = train['typology'].apply(lambda x: 1 if x in target_typology else 0)\n",
    "train = train.query('is_train_target==1').reset_index(drop=True)"
   ]
  },
  {
   "cell_type": "code",
   "execution_count": 9,
   "metadata": {},
   "outputs": [],
   "source": [
    "#train = pd.read_csv('train_for_text.csv')\n",
    "#train['description'] = train['description'].apply(lambda x: RemovePunctuation(x)) "
   ]
  },
  {
   "cell_type": "code",
   "execution_count": 10,
   "metadata": {},
   "outputs": [],
   "source": [
    "train['description'] = train['description'].apply(lambda x: RemovePunctuation(x)) "
   ]
  },
  {
   "cell_type": "code",
   "execution_count": 11,
   "metadata": {},
   "outputs": [],
   "source": [
    "train, valid = train_test_split(train, test_size = 0.1, stratify = train['typology'], random_state=seed)"
   ]
  },
  {
   "cell_type": "code",
   "execution_count": 19,
   "metadata": {},
   "outputs": [],
   "source": [
    "max_len = 80\n",
    "embed_dim = 100\n",
    "docs = train['description'].tolist()\n",
    "tokenizer = Tokenizer(num_words=None, char_level=False)"
   ]
  },
  {
   "cell_type": "code",
   "execution_count": 20,
   "metadata": {},
   "outputs": [],
   "source": [
    "tokenizer.fit_on_texts(docs)\n",
    "word_index = tokenizer.word_index"
   ]
  },
  {
   "cell_type": "code",
   "execution_count": 47,
   "metadata": {},
   "outputs": [],
   "source": [
    "# сохраняем tokenizer для инференс \n",
    "with open('Models_text/tokenizer.pickle', 'wb') as handle:\n",
    "    pickle.dump(tokenizer, handle, protocol=pickle.HIGHEST_PROTOCOL)"
   ]
  },
  {
   "cell_type": "code",
   "execution_count": 34,
   "metadata": {},
   "outputs": [],
   "source": [
    "X_train = tokenizer.texts_to_sequences(train['description'].tolist())\n",
    "X_train = sequence.pad_sequences(X_train, maxlen=max_len, padding='post')"
   ]
  },
  {
   "cell_type": "code",
   "execution_count": 35,
   "metadata": {},
   "outputs": [],
   "source": [
    "train_labels = train['typology'].tolist()\n",
    "le = LabelEncoder()\n",
    "train_labels = le.fit_transform(train_labels)\n",
    "train_labels = utils.to_categorical(train_labels, 15)"
   ]
  },
  {
   "cell_type": "code",
   "execution_count": 46,
   "metadata": {},
   "outputs": [],
   "source": [
    "# сохраняем LabelEncoder для инференс\n",
    "with open('Models_text/LabelEncoder.pickle', 'wb') as handle:\n",
    "    pickle.dump(le, handle, protocol=pickle.HIGHEST_PROTOCOL)"
   ]
  },
  {
   "cell_type": "code",
   "execution_count": 14,
   "metadata": {},
   "outputs": [
    {
     "name": "stdout",
     "output_type": "stream",
     "text": [
      "Found 46139 word vectors.\n"
     ]
    }
   ],
   "source": [
    "#Loading pre-trained embeddings\n",
    "embeddings_index = {}\n",
    "f = open('Models_text/w2v.vec')\n",
    "for line in f:\n",
    "    values = line.split()\n",
    "    word = values[0]\n",
    "    coefs = np.asarray(values[1:], dtype='float32')\n",
    "    embeddings_index[word] = coefs\n",
    "f.close()\n",
    "print('Found %s word vectors.' % len(embeddings_index))"
   ]
  },
  {
   "cell_type": "code",
   "execution_count": 40,
   "metadata": {},
   "outputs": [
    {
     "name": "stdout",
     "output_type": "stream",
     "text": [
      "Converted 46114 words (130956 misses)\n"
     ]
    }
   ],
   "source": [
    "#At this point we can leverage our embedding_index dictionary and our word_index to compute our embedding matrix\n",
    "hits = 0\n",
    "misses = 0\n",
    "embedding_matrix = np.zeros((len(word_index)+1, embed_dim))\n",
    "for word, i in word_index.items():\n",
    "    embedding_vector = embeddings_index.get(word)\n",
    "    if embedding_vector is not None:\n",
    "        # words not found in embedding index will be all-zeros.\n",
    "        embedding_matrix[i] = embedding_vector\n",
    "        hits += 1\n",
    "    else:\n",
    "        misses += 1\n",
    "print(\"Converted %d words (%d misses)\" % (hits, misses))"
   ]
  },
  {
   "cell_type": "code",
   "execution_count": 37,
   "metadata": {},
   "outputs": [],
   "source": [
    "#Helpers\n",
    "folds = 10\n",
    "es = EarlyStopping(monitor='val_f1_m', mode='max', \n",
    "                       patience=3, restore_best_weights=True, verbose=1)\n",
    "skf = StratifiedKFold(n_splits=folds, shuffle=True, random_state=seed)"
   ]
  },
  {
   "cell_type": "code",
   "execution_count": 40,
   "metadata": {},
   "outputs": [],
   "source": [
    "#Architecture NN\n",
    "def architecture_NN():\n",
    "    inp = L.Input(shape=(max_len,), dtype=\"int64\")\n",
    "    embedding_layer = L.Embedding(len(word_index)+1, embed_dim, input_length=max_len, weights=[embedding_matrix],trainable=False)(inp)\n",
    "    bilstm = L.Bidirectional(L.LSTM(128, return_sequences=True, dropout=0.2))(embedding_layer)\n",
    "    bilstm = L.Bidirectional(L.LSTM(64, return_sequences=True, dropout=0.1))(bilstm)\n",
    "    bilstm = L.Bidirectional(L.LSTM(32, return_sequences=False, dropout=0.1))(bilstm)\n",
    "    flat = L.Flatten()(bilstm)\n",
    "    #x = L.Dense(50, activation = 'relu', kernel_initializer='he_uniform', bias_initializer='zeros')(flat)\n",
    "    x = L.BatchNormalization()(flat)\n",
    "    out = L.Dense(15, activation = 'softmax', kernel_initializer='glorot_uniform', bias_initializer='zeros')(x)\n",
    "    model = tf.keras.models.Model(inputs = inp, outputs = out)\n",
    "    return model"
   ]
  },
  {
   "cell_type": "code",
   "execution_count": 41,
   "metadata": {},
   "outputs": [
    {
     "name": "stdout",
     "output_type": "stream",
     "text": [
      "Model: \"model_2\"\n",
      "_________________________________________________________________\n",
      "Layer (type)                 Output Shape              Param #   \n",
      "=================================================================\n",
      "input_3 (InputLayer)         [(None, 80)]              0         \n",
      "_________________________________________________________________\n",
      "embedding_2 (Embedding)      (None, 80, 100)           17707100  \n",
      "_________________________________________________________________\n",
      "bidirectional_5 (Bidirection (None, 80, 256)           234496    \n",
      "_________________________________________________________________\n",
      "bidirectional_6 (Bidirection (None, 80, 128)           164352    \n",
      "_________________________________________________________________\n",
      "bidirectional_7 (Bidirection (None, 64)                41216     \n",
      "_________________________________________________________________\n",
      "flatten_2 (Flatten)          (None, 64)                0         \n",
      "_________________________________________________________________\n",
      "batch_normalization_2 (Batch (None, 64)                256       \n",
      "_________________________________________________________________\n",
      "dense_2 (Dense)              (None, 15)                975       \n",
      "=================================================================\n",
      "Total params: 18,148,395\n",
      "Trainable params: 441,167\n",
      "Non-trainable params: 17,707,228\n",
      "_________________________________________________________________\n"
     ]
    }
   ],
   "source": [
    "architecture_NN().summary()"
   ]
  },
  {
   "cell_type": "code",
   "execution_count": 42,
   "metadata": {},
   "outputs": [],
   "source": [
    "LR = 0.0005\n",
    "batch_size = 32\n",
    "num_epochs = 50"
   ]
  },
  {
   "cell_type": "markdown",
   "metadata": {},
   "source": [
    "время обучения на 3070 около 4 часов"
   ]
  },
  {
   "cell_type": "code",
   "execution_count": 43,
   "metadata": {
    "scrolled": true
   },
   "outputs": [
    {
     "name": "stdout",
     "output_type": "stream",
     "text": [
      "Epoch 1/50\n",
      "5110/5110 [==============================] - 89s 17ms/step - loss: 0.9555 - f1_m: 0.6821 - val_loss: 0.6691 - val_f1_m: 0.7861\n",
      "Epoch 2/50\n",
      "5110/5110 [==============================] - 84s 16ms/step - loss: 0.6749 - f1_m: 0.7826 - val_loss: 0.6185 - val_f1_m: 0.8056\n",
      "Epoch 3/50\n",
      "5110/5110 [==============================] - 85s 17ms/step - loss: 0.6224 - f1_m: 0.7989 - val_loss: 0.6534 - val_f1_m: 0.7995\n",
      "Epoch 4/50\n",
      "5110/5110 [==============================] - 82s 16ms/step - loss: 0.5836 - f1_m: 0.8108 - val_loss: 0.5800 - val_f1_m: 0.8182\n",
      "Epoch 5/50\n",
      "5110/5110 [==============================] - 81s 16ms/step - loss: 0.5622 - f1_m: 0.8196 - val_loss: 0.5760 - val_f1_m: 0.8194\n",
      "Epoch 6/50\n",
      "5110/5110 [==============================] - 82s 16ms/step - loss: 0.5384 - f1_m: 0.8252 - val_loss: 0.5600 - val_f1_m: 0.8278\n",
      "Epoch 7/50\n",
      "5110/5110 [==============================] - 80s 16ms/step - loss: 0.5184 - f1_m: 0.8335 - val_loss: 0.5557 - val_f1_m: 0.8278\n",
      "Epoch 8/50\n",
      "5110/5110 [==============================] - 81s 16ms/step - loss: 0.5038 - f1_m: 0.8367 - val_loss: 0.5590 - val_f1_m: 0.8263\n",
      "Epoch 9/50\n",
      "5110/5110 [==============================] - 80s 16ms/step - loss: 0.4918 - f1_m: 0.8407 - val_loss: 0.5554 - val_f1_m: 0.8300\n",
      "Epoch 10/50\n",
      "5110/5110 [==============================] - 82s 16ms/step - loss: 0.4793 - f1_m: 0.8454 - val_loss: 0.5510 - val_f1_m: 0.8327\n",
      "Epoch 11/50\n",
      "5110/5110 [==============================] - 83s 16ms/step - loss: 0.4697 - f1_m: 0.8489 - val_loss: 0.5498 - val_f1_m: 0.8330\n",
      "Epoch 12/50\n",
      "5110/5110 [==============================] - 82s 16ms/step - loss: 0.4588 - f1_m: 0.8509 - val_loss: 0.5553 - val_f1_m: 0.8318\n",
      "Epoch 13/50\n",
      "5110/5110 [==============================] - 81s 16ms/step - loss: 0.4481 - f1_m: 0.8542 - val_loss: 0.5558 - val_f1_m: 0.8310\n",
      "Epoch 14/50\n",
      "5110/5110 [==============================] - 84s 16ms/step - loss: 0.4448 - f1_m: 0.8550 - val_loss: 0.5622 - val_f1_m: 0.8338\n",
      "Epoch 15/50\n",
      "5110/5110 [==============================] - 84s 16ms/step - loss: 0.4315 - f1_m: 0.8602 - val_loss: 0.5612 - val_f1_m: 0.8326\n",
      "Epoch 16/50\n",
      "5110/5110 [==============================] - 82s 16ms/step - loss: 0.4286 - f1_m: 0.8610 - val_loss: 0.5640 - val_f1_m: 0.8343\n",
      "Epoch 17/50\n",
      "5110/5110 [==============================] - 82s 16ms/step - loss: 0.4199 - f1_m: 0.8626 - val_loss: 0.5698 - val_f1_m: 0.8329\n",
      "Epoch 18/50\n",
      "5110/5110 [==============================] - 82s 16ms/step - loss: 0.4145 - f1_m: 0.8659 - val_loss: 0.5779 - val_f1_m: 0.8313\n",
      "Epoch 19/50\n",
      "5110/5110 [==============================] - 82s 16ms/step - loss: 0.4074 - f1_m: 0.8668 - val_loss: 0.5748 - val_f1_m: 0.8331\n",
      "Restoring model weights from the end of the best epoch.\n",
      "Epoch 00019: early stopping\n",
      "Epoch 1/50\n",
      "5110/5110 [==============================] - 87s 16ms/step - loss: 0.9455 - f1_m: 0.6872 - val_loss: 0.6648 - val_f1_m: 0.7834\n",
      "Epoch 2/50\n",
      "5110/5110 [==============================] - 83s 16ms/step - loss: 0.6690 - f1_m: 0.7855 - val_loss: 0.6234 - val_f1_m: 0.8019\n",
      "Epoch 3/50\n",
      "5110/5110 [==============================] - 81s 16ms/step - loss: 0.6150 - f1_m: 0.8016 - val_loss: 0.5887 - val_f1_m: 0.8123\n",
      "Epoch 4/50\n",
      "5110/5110 [==============================] - 80s 16ms/step - loss: 0.5806 - f1_m: 0.8135 - val_loss: 0.5764 - val_f1_m: 0.8170\n",
      "Epoch 5/50\n",
      "5110/5110 [==============================] - 81s 16ms/step - loss: 0.5566 - f1_m: 0.8204 - val_loss: 0.5727 - val_f1_m: 0.8198\n",
      "Epoch 6/50\n",
      "5110/5110 [==============================] - 83s 16ms/step - loss: 0.5339 - f1_m: 0.8283 - val_loss: 0.5613 - val_f1_m: 0.8227\n",
      "Epoch 7/50\n",
      "5110/5110 [==============================] - 82s 16ms/step - loss: 0.5141 - f1_m: 0.8333 - val_loss: 0.5587 - val_f1_m: 0.8270\n",
      "Epoch 8/50\n",
      "5110/5110 [==============================] - 80s 16ms/step - loss: 0.5007 - f1_m: 0.8389 - val_loss: 0.5495 - val_f1_m: 0.8277\n",
      "Epoch 9/50\n",
      "5110/5110 [==============================] - 79s 16ms/step - loss: 0.4828 - f1_m: 0.8446 - val_loss: 0.5565 - val_f1_m: 0.8286\n",
      "Epoch 10/50\n",
      "5110/5110 [==============================] - 84s 16ms/step - loss: 0.4722 - f1_m: 0.8476 - val_loss: 0.5557 - val_f1_m: 0.8273\n",
      "Epoch 11/50\n",
      "5110/5110 [==============================] - 84s 16ms/step - loss: 0.4636 - f1_m: 0.8493 - val_loss: 0.5595 - val_f1_m: 0.8306\n",
      "Epoch 12/50\n",
      "5110/5110 [==============================] - 83s 16ms/step - loss: 0.4550 - f1_m: 0.8534 - val_loss: 0.5482 - val_f1_m: 0.8320\n",
      "Epoch 13/50\n",
      "5110/5110 [==============================] - 82s 16ms/step - loss: 0.4458 - f1_m: 0.8556 - val_loss: 0.5530 - val_f1_m: 0.8332\n",
      "Epoch 14/50\n",
      "5110/5110 [==============================] - 81s 16ms/step - loss: 0.4322 - f1_m: 0.8597 - val_loss: 0.5564 - val_f1_m: 0.8310\n",
      "Epoch 15/50\n",
      "5110/5110 [==============================] - 82s 16ms/step - loss: 0.4304 - f1_m: 0.8604 - val_loss: 0.5543 - val_f1_m: 0.8334\n",
      "Epoch 16/50\n",
      "5110/5110 [==============================] - 80s 16ms/step - loss: 0.4192 - f1_m: 0.8641 - val_loss: 0.5574 - val_f1_m: 0.8339\n",
      "Epoch 17/50\n",
      "5110/5110 [==============================] - 85s 17ms/step - loss: 0.4120 - f1_m: 0.8660 - val_loss: 0.5515 - val_f1_m: 0.8323\n",
      "Epoch 18/50\n",
      "5110/5110 [==============================] - 82s 16ms/step - loss: 0.4058 - f1_m: 0.8689 - val_loss: 0.5685 - val_f1_m: 0.8323\n",
      "Epoch 19/50\n",
      "5110/5110 [==============================] - 81s 16ms/step - loss: 0.4071 - f1_m: 0.8665 - val_loss: 0.5601 - val_f1_m: 0.8320\n",
      "Restoring model weights from the end of the best epoch.\n",
      "Epoch 00019: early stopping\n",
      "Epoch 1/50\n",
      "5110/5110 [==============================] - 87s 16ms/step - loss: 0.9468 - f1_m: 0.6862 - val_loss: 0.6604 - val_f1_m: 0.7893\n",
      "Epoch 2/50\n",
      "5110/5110 [==============================] - 84s 16ms/step - loss: 0.6627 - f1_m: 0.7861 - val_loss: 0.6146 - val_f1_m: 0.8056\n",
      "Epoch 3/50\n",
      "5110/5110 [==============================] - 84s 16ms/step - loss: 0.6111 - f1_m: 0.8023 - val_loss: 0.5938 - val_f1_m: 0.8161\n",
      "Epoch 4/50\n",
      "5110/5110 [==============================] - 81s 16ms/step - loss: 0.5759 - f1_m: 0.8149 - val_loss: 0.5806 - val_f1_m: 0.8173\n",
      "Epoch 5/50\n",
      "5110/5110 [==============================] - 79s 16ms/step - loss: 0.5466 - f1_m: 0.8234 - val_loss: 0.5670 - val_f1_m: 0.8230\n",
      "Epoch 6/50\n",
      "5110/5110 [==============================] - 82s 16ms/step - loss: 0.5282 - f1_m: 0.8294 - val_loss: 0.5681 - val_f1_m: 0.8236\n",
      "Epoch 7/50\n",
      "5110/5110 [==============================] - 82s 16ms/step - loss: 0.5138 - f1_m: 0.8341 - val_loss: 0.5591 - val_f1_m: 0.8273\n",
      "Epoch 8/50\n",
      "5110/5110 [==============================] - 80s 16ms/step - loss: 0.4971 - f1_m: 0.8386 - val_loss: 0.5569 - val_f1_m: 0.8288\n",
      "Epoch 9/50\n",
      "5110/5110 [==============================] - 80s 16ms/step - loss: 0.4843 - f1_m: 0.8437 - val_loss: 0.5551 - val_f1_m: 0.8292\n",
      "Epoch 10/50\n",
      "5110/5110 [==============================] - 80s 16ms/step - loss: 0.4718 - f1_m: 0.8471 - val_loss: 0.5555 - val_f1_m: 0.8322\n",
      "Epoch 11/50\n",
      "5110/5110 [==============================] - 80s 16ms/step - loss: 0.4607 - f1_m: 0.8515 - val_loss: 0.5578 - val_f1_m: 0.8306\n",
      "Epoch 12/50\n",
      "5110/5110 [==============================] - 80s 16ms/step - loss: 0.4531 - f1_m: 0.8539 - val_loss: 0.5613 - val_f1_m: 0.8327\n",
      "Epoch 13/50\n",
      "5110/5110 [==============================] - 79s 15ms/step - loss: 0.4437 - f1_m: 0.8560 - val_loss: 0.5637 - val_f1_m: 0.8330\n",
      "Epoch 14/50\n",
      "5110/5110 [==============================] - 79s 15ms/step - loss: 0.4370 - f1_m: 0.8584 - val_loss: 0.5592 - val_f1_m: 0.8367\n",
      "Epoch 15/50\n",
      "5110/5110 [==============================] - 80s 16ms/step - loss: 0.4258 - f1_m: 0.8624 - val_loss: 0.5604 - val_f1_m: 0.8332\n",
      "Epoch 16/50\n",
      "5110/5110 [==============================] - 83s 16ms/step - loss: 0.4198 - f1_m: 0.8631 - val_loss: 0.5605 - val_f1_m: 0.8366\n",
      "Epoch 17/50\n",
      "5110/5110 [==============================] - 83s 16ms/step - loss: 0.4114 - f1_m: 0.8653 - val_loss: 0.5619 - val_f1_m: 0.8337\n",
      "Restoring model weights from the end of the best epoch.\n",
      "Epoch 00017: early stopping\n",
      "Epoch 1/50\n",
      "5110/5110 [==============================] - 89s 17ms/step - loss: 0.9621 - f1_m: 0.6833 - val_loss: 0.6981 - val_f1_m: 0.7778\n",
      "Epoch 2/50\n",
      "5110/5110 [==============================] - 84s 16ms/step - loss: 0.6748 - f1_m: 0.7825 - val_loss: 0.6378 - val_f1_m: 0.7956\n",
      "Epoch 3/50\n",
      "5110/5110 [==============================] - 81s 16ms/step - loss: 0.6155 - f1_m: 0.8022 - val_loss: 0.6077 - val_f1_m: 0.8069\n",
      "Epoch 4/50\n",
      "5110/5110 [==============================] - 81s 16ms/step - loss: 0.5827 - f1_m: 0.8129 - val_loss: 0.5945 - val_f1_m: 0.8118\n",
      "Epoch 5/50\n",
      "5110/5110 [==============================] - 82s 16ms/step - loss: 0.5560 - f1_m: 0.8207 - val_loss: 0.5846 - val_f1_m: 0.8179\n",
      "Epoch 6/50\n",
      "5110/5110 [==============================] - 81s 16ms/step - loss: 0.5351 - f1_m: 0.8281 - val_loss: 0.5810 - val_f1_m: 0.8152\n",
      "Epoch 7/50\n",
      "5110/5110 [==============================] - 81s 16ms/step - loss: 0.5162 - f1_m: 0.8335 - val_loss: 0.5711 - val_f1_m: 0.8232\n",
      "Epoch 8/50\n",
      "5110/5110 [==============================] - 81s 16ms/step - loss: 0.5048 - f1_m: 0.8374 - val_loss: 0.5685 - val_f1_m: 0.8230\n",
      "Epoch 9/50\n",
      "5110/5110 [==============================] - 81s 16ms/step - loss: 0.4901 - f1_m: 0.8411 - val_loss: 0.5628 - val_f1_m: 0.8262\n",
      "Epoch 10/50\n",
      "5110/5110 [==============================] - 81s 16ms/step - loss: 0.4739 - f1_m: 0.8466 - val_loss: 0.5617 - val_f1_m: 0.8289\n",
      "Epoch 11/50\n",
      "5110/5110 [==============================] - 81s 16ms/step - loss: 0.4645 - f1_m: 0.8503 - val_loss: 0.5672 - val_f1_m: 0.8255\n",
      "Epoch 12/50\n",
      "5110/5110 [==============================] - 80s 16ms/step - loss: 0.4532 - f1_m: 0.8543 - val_loss: 0.5623 - val_f1_m: 0.8288\n",
      "Epoch 13/50\n",
      "5110/5110 [==============================] - 79s 15ms/step - loss: 0.4435 - f1_m: 0.8581 - val_loss: 0.5702 - val_f1_m: 0.8275\n",
      "Restoring model weights from the end of the best epoch.\n",
      "Epoch 00013: early stopping\n",
      "Epoch 1/50\n",
      "5110/5110 [==============================] - 84s 16ms/step - loss: 0.9461 - f1_m: 0.6861 - val_loss: 0.6635 - val_f1_m: 0.7912\n",
      "Epoch 2/50\n",
      "5110/5110 [==============================] - 81s 16ms/step - loss: 0.6628 - f1_m: 0.7864 - val_loss: 0.6094 - val_f1_m: 0.8058\n",
      "Epoch 3/50\n",
      "5110/5110 [==============================] - 80s 16ms/step - loss: 0.6111 - f1_m: 0.8029 - val_loss: 0.5954 - val_f1_m: 0.8085\n",
      "Epoch 4/50\n",
      "5110/5110 [==============================] - 80s 16ms/step - loss: 0.5800 - f1_m: 0.8136 - val_loss: 0.5738 - val_f1_m: 0.8165\n",
      "Epoch 5/50\n",
      "5110/5110 [==============================] - 79s 16ms/step - loss: 0.5547 - f1_m: 0.8209 - val_loss: 0.5610 - val_f1_m: 0.8216\n",
      "Epoch 6/50\n",
      "5110/5110 [==============================] - 79s 16ms/step - loss: 0.5330 - f1_m: 0.8264 - val_loss: 0.5574 - val_f1_m: 0.8234\n",
      "Epoch 7/50\n",
      "5110/5110 [==============================] - 79s 16ms/step - loss: 0.5135 - f1_m: 0.8327 - val_loss: 0.5529 - val_f1_m: 0.8256\n",
      "Epoch 8/50\n",
      "5110/5110 [==============================] - 82s 16ms/step - loss: 0.4975 - f1_m: 0.8400 - val_loss: 0.5558 - val_f1_m: 0.8239\n",
      "Epoch 9/50\n",
      "5110/5110 [==============================] - 82s 16ms/step - loss: 0.4906 - f1_m: 0.8423 - val_loss: 0.5532 - val_f1_m: 0.8278\n",
      "Epoch 10/50\n",
      "5110/5110 [==============================] - 83s 16ms/step - loss: 0.4690 - f1_m: 0.8469 - val_loss: 0.5704 - val_f1_m: 0.8243\n",
      "Epoch 11/50\n",
      "5110/5110 [==============================] - 83s 16ms/step - loss: 0.4668 - f1_m: 0.8491 - val_loss: 0.8363 - val_f1_m: 0.7557\n",
      "Epoch 12/50\n",
      "5110/5110 [==============================] - 84s 16ms/step - loss: 0.4626 - f1_m: 0.8505 - val_loss: 0.5543 - val_f1_m: 0.8299\n",
      "Epoch 13/50\n",
      "5110/5110 [==============================] - 83s 16ms/step - loss: 0.4537 - f1_m: 0.8535 - val_loss: 0.5602 - val_f1_m: 0.8292\n",
      "Epoch 14/50\n",
      "5110/5110 [==============================] - 84s 16ms/step - loss: 0.4481 - f1_m: 0.8538 - val_loss: 0.5550 - val_f1_m: 0.8325\n",
      "Epoch 15/50\n",
      "5110/5110 [==============================] - 83s 16ms/step - loss: 0.4373 - f1_m: 0.8589 - val_loss: 0.5544 - val_f1_m: 0.8316\n",
      "Epoch 16/50\n",
      "5110/5110 [==============================] - 84s 16ms/step - loss: 0.4306 - f1_m: 0.8611 - val_loss: 0.5594 - val_f1_m: 0.8306\n",
      "Epoch 17/50\n",
      "5110/5110 [==============================] - 83s 16ms/step - loss: 0.4248 - f1_m: 0.8615 - val_loss: 0.5537 - val_f1_m: 0.8312\n",
      "Restoring model weights from the end of the best epoch.\n",
      "Epoch 00017: early stopping\n",
      "Epoch 1/50\n",
      "5110/5110 [==============================] - 88s 16ms/step - loss: 0.9369 - f1_m: 0.6902 - val_loss: 0.6814 - val_f1_m: 0.7776\n",
      "Epoch 2/50\n",
      "5110/5110 [==============================] - 84s 16ms/step - loss: 0.6677 - f1_m: 0.7853 - val_loss: 0.6282 - val_f1_m: 0.7971\n",
      "Epoch 3/50\n",
      "5110/5110 [==============================] - 83s 16ms/step - loss: 0.6113 - f1_m: 0.8023 - val_loss: 0.6065 - val_f1_m: 0.8069\n",
      "Epoch 4/50\n",
      "5110/5110 [==============================] - 84s 16ms/step - loss: 0.5842 - f1_m: 0.8113 - val_loss: 0.5927 - val_f1_m: 0.8125\n",
      "Epoch 5/50\n",
      "5110/5110 [==============================] - 84s 16ms/step - loss: 0.5484 - f1_m: 0.8248 - val_loss: 0.5803 - val_f1_m: 0.8158\n",
      "Epoch 6/50\n",
      "5110/5110 [==============================] - 84s 16ms/step - loss: 0.5320 - f1_m: 0.8285 - val_loss: 0.5801 - val_f1_m: 0.8165\n",
      "Epoch 7/50\n",
      "5110/5110 [==============================] - 84s 16ms/step - loss: 0.5091 - f1_m: 0.8353 - val_loss: 0.5726 - val_f1_m: 0.8189\n",
      "Epoch 8/50\n",
      "5110/5110 [==============================] - 84s 16ms/step - loss: 0.4967 - f1_m: 0.8398 - val_loss: 0.5683 - val_f1_m: 0.8205\n",
      "Epoch 9/50\n",
      "5110/5110 [==============================] - 84s 16ms/step - loss: 0.4850 - f1_m: 0.8434 - val_loss: 0.5653 - val_f1_m: 0.8213\n",
      "Epoch 10/50\n",
      "5110/5110 [==============================] - 84s 16ms/step - loss: 0.4747 - f1_m: 0.8456 - val_loss: 0.5744 - val_f1_m: 0.8211\n",
      "Epoch 11/50\n",
      "5110/5110 [==============================] - 84s 16ms/step - loss: 0.4642 - f1_m: 0.8494 - val_loss: 0.5765 - val_f1_m: 0.8245\n",
      "Epoch 12/50\n",
      "5110/5110 [==============================] - 84s 16ms/step - loss: 0.4514 - f1_m: 0.8542 - val_loss: 0.5731 - val_f1_m: 0.8245\n",
      "Epoch 13/50\n",
      "5110/5110 [==============================] - 84s 16ms/step - loss: 0.4397 - f1_m: 0.8584 - val_loss: 0.5761 - val_f1_m: 0.8255\n",
      "Epoch 14/50\n",
      "5110/5110 [==============================] - 84s 16ms/step - loss: 0.4303 - f1_m: 0.8604 - val_loss: 0.5789 - val_f1_m: 0.8239\n",
      "Epoch 15/50\n",
      "5110/5110 [==============================] - 84s 17ms/step - loss: 0.4258 - f1_m: 0.8610 - val_loss: 0.5744 - val_f1_m: 0.8264\n",
      "Epoch 16/50\n",
      "5110/5110 [==============================] - 81s 16ms/step - loss: 0.4206 - f1_m: 0.8633 - val_loss: 0.5835 - val_f1_m: 0.8234\n",
      "Epoch 17/50\n",
      "5110/5110 [==============================] - 81s 16ms/step - loss: 0.4149 - f1_m: 0.8647 - val_loss: 0.5904 - val_f1_m: 0.8250\n",
      "Epoch 18/50\n",
      "5110/5110 [==============================] - 80s 16ms/step - loss: 0.4121 - f1_m: 0.8653 - val_loss: 0.5789 - val_f1_m: 0.8250\n",
      "Restoring model weights from the end of the best epoch.\n",
      "Epoch 00018: early stopping\n",
      "Epoch 1/50\n",
      "5110/5110 [==============================] - 85s 16ms/step - loss: 0.9478 - f1_m: 0.6876 - val_loss: 0.6383 - val_f1_m: 0.7949\n",
      "Epoch 2/50\n",
      "5110/5110 [==============================] - 81s 16ms/step - loss: 0.6750 - f1_m: 0.7828 - val_loss: 0.6070 - val_f1_m: 0.8084\n",
      "Epoch 3/50\n",
      "5110/5110 [==============================] - 81s 16ms/step - loss: 0.6202 - f1_m: 0.8012 - val_loss: 0.5705 - val_f1_m: 0.8181\n",
      "Epoch 4/50\n",
      "5110/5110 [==============================] - 80s 16ms/step - loss: 0.5821 - f1_m: 0.8121 - val_loss: 0.5596 - val_f1_m: 0.8213\n",
      "Epoch 5/50\n",
      "5110/5110 [==============================] - 81s 16ms/step - loss: 0.5575 - f1_m: 0.8198 - val_loss: 0.5552 - val_f1_m: 0.8222\n",
      "Epoch 6/50\n",
      "5110/5110 [==============================] - 81s 16ms/step - loss: 0.5388 - f1_m: 0.8264 - val_loss: 0.5496 - val_f1_m: 0.8256\n",
      "Epoch 7/50\n",
      "5110/5110 [==============================] - 82s 16ms/step - loss: 0.5175 - f1_m: 0.8325 - val_loss: 0.5436 - val_f1_m: 0.8273\n",
      "Epoch 8/50\n",
      "5110/5110 [==============================] - 81s 16ms/step - loss: 0.5020 - f1_m: 0.8374 - val_loss: 0.5393 - val_f1_m: 0.8298\n",
      "Epoch 9/50\n",
      "5110/5110 [==============================] - 79s 15ms/step - loss: 0.4883 - f1_m: 0.8427 - val_loss: 0.5399 - val_f1_m: 0.8325\n",
      "Epoch 10/50\n",
      "5110/5110 [==============================] - 79s 16ms/step - loss: 0.4703 - f1_m: 0.8489 - val_loss: 0.5407 - val_f1_m: 0.8321\n",
      "Epoch 11/50\n",
      "5110/5110 [==============================] - 80s 16ms/step - loss: 0.4677 - f1_m: 0.8488 - val_loss: 0.5479 - val_f1_m: 0.8298\n",
      "Epoch 12/50\n"
     ]
    },
    {
     "name": "stdout",
     "output_type": "stream",
     "text": [
      "5110/5110 [==============================] - 81s 16ms/step - loss: 0.4595 - f1_m: 0.8511 - val_loss: 0.5400 - val_f1_m: 0.8329\n",
      "Epoch 13/50\n",
      "5110/5110 [==============================] - 81s 16ms/step - loss: 0.4586 - f1_m: 0.8513 - val_loss: 0.5481 - val_f1_m: 0.8302\n",
      "Epoch 14/50\n",
      "5110/5110 [==============================] - 81s 16ms/step - loss: 0.4523 - f1_m: 0.8527 - val_loss: 0.5517 - val_f1_m: 0.8305\n",
      "Epoch 15/50\n",
      "5110/5110 [==============================] - 80s 16ms/step - loss: 0.4443 - f1_m: 0.8553 - val_loss: 0.5470 - val_f1_m: 0.8348\n",
      "Epoch 16/50\n",
      "5110/5110 [==============================] - 84s 16ms/step - loss: 0.4408 - f1_m: 0.8568 - val_loss: 0.5462 - val_f1_m: 0.8334\n",
      "Epoch 17/50\n",
      "5110/5110 [==============================] - 79s 16ms/step - loss: 0.4233 - f1_m: 0.8624 - val_loss: 0.5565 - val_f1_m: 0.8315\n",
      "Epoch 18/50\n",
      "5110/5110 [==============================] - 81s 16ms/step - loss: 0.4201 - f1_m: 0.8643 - val_loss: 0.5476 - val_f1_m: 0.8340\n",
      "Restoring model weights from the end of the best epoch.\n",
      "Epoch 00018: early stopping\n",
      "Epoch 1/50\n",
      "5110/5110 [==============================] - 87s 16ms/step - loss: 0.9485 - f1_m: 0.6856 - val_loss: 0.6588 - val_f1_m: 0.7905\n",
      "Epoch 2/50\n",
      "5110/5110 [==============================] - 82s 16ms/step - loss: 0.6728 - f1_m: 0.7822 - val_loss: 0.6137 - val_f1_m: 0.8053\n",
      "Epoch 3/50\n",
      "5110/5110 [==============================] - 80s 16ms/step - loss: 0.6192 - f1_m: 0.8012 - val_loss: 0.5862 - val_f1_m: 0.8119\n",
      "Epoch 4/50\n",
      "5110/5110 [==============================] - 80s 16ms/step - loss: 0.5818 - f1_m: 0.8130 - val_loss: 0.5803 - val_f1_m: 0.8141\n",
      "Epoch 5/50\n",
      "5110/5110 [==============================] - 80s 16ms/step - loss: 0.5529 - f1_m: 0.8212 - val_loss: 0.5637 - val_f1_m: 0.8187\n",
      "Epoch 6/50\n",
      "5110/5110 [==============================] - 82s 16ms/step - loss: 0.5360 - f1_m: 0.8282 - val_loss: 0.5549 - val_f1_m: 0.8237\n",
      "Epoch 7/50\n",
      "5110/5110 [==============================] - 81s 16ms/step - loss: 0.5204 - f1_m: 0.8316 - val_loss: 0.5530 - val_f1_m: 0.8264\n",
      "Epoch 8/50\n",
      "5110/5110 [==============================] - 83s 16ms/step - loss: 0.5016 - f1_m: 0.8387 - val_loss: 0.5520 - val_f1_m: 0.8299\n",
      "Epoch 9/50\n",
      "5110/5110 [==============================] - 81s 16ms/step - loss: 0.4856 - f1_m: 0.8425 - val_loss: 0.5524 - val_f1_m: 0.8299\n",
      "Epoch 10/50\n",
      "5110/5110 [==============================] - 80s 16ms/step - loss: 0.4723 - f1_m: 0.8477 - val_loss: 0.5573 - val_f1_m: 0.8292\n",
      "Epoch 11/50\n",
      "5110/5110 [==============================] - 84s 16ms/step - loss: 0.4601 - f1_m: 0.8510 - val_loss: 0.5528 - val_f1_m: 0.8306\n",
      "Epoch 12/50\n",
      "5110/5110 [==============================] - 84s 16ms/step - loss: 0.4561 - f1_m: 0.8522 - val_loss: 0.5493 - val_f1_m: 0.8301\n",
      "Epoch 13/50\n",
      "5110/5110 [==============================] - 85s 17ms/step - loss: 0.4425 - f1_m: 0.8580 - val_loss: 0.5507 - val_f1_m: 0.8318\n",
      "Epoch 14/50\n",
      "5110/5110 [==============================] - 82s 16ms/step - loss: 0.4378 - f1_m: 0.8579 - val_loss: 0.5635 - val_f1_m: 0.8304\n",
      "Epoch 15/50\n",
      "5110/5110 [==============================] - 83s 16ms/step - loss: 0.4318 - f1_m: 0.8601 - val_loss: 0.5558 - val_f1_m: 0.8337\n",
      "Epoch 16/50\n",
      "5110/5110 [==============================] - 81s 16ms/step - loss: 0.4198 - f1_m: 0.8630 - val_loss: 0.5565 - val_f1_m: 0.8316\n",
      "Epoch 17/50\n",
      "5110/5110 [==============================] - 84s 17ms/step - loss: 0.4189 - f1_m: 0.8654 - val_loss: 0.5594 - val_f1_m: 0.8343\n",
      "Epoch 18/50\n",
      "5110/5110 [==============================] - 84s 17ms/step - loss: 0.4130 - f1_m: 0.8659 - val_loss: 0.5593 - val_f1_m: 0.8330\n",
      "Epoch 19/50\n",
      "5110/5110 [==============================] - 84s 16ms/step - loss: 0.4057 - f1_m: 0.8686 - val_loss: 0.5665 - val_f1_m: 0.8334\n",
      "Epoch 20/50\n",
      "5110/5110 [==============================] - 82s 16ms/step - loss: 0.3987 - f1_m: 0.8706 - val_loss: 0.5655 - val_f1_m: 0.8311\n",
      "Restoring model weights from the end of the best epoch.\n",
      "Epoch 00020: early stopping\n",
      "Epoch 1/50\n",
      "5110/5110 [==============================] - 87s 16ms/step - loss: 0.9475 - f1_m: 0.6858 - val_loss: 0.6673 - val_f1_m: 0.7854\n",
      "Epoch 2/50\n",
      "5110/5110 [==============================] - 83s 16ms/step - loss: 0.6680 - f1_m: 0.7851 - val_loss: 0.6292 - val_f1_m: 0.7999\n",
      "Epoch 3/50\n",
      "5110/5110 [==============================] - 85s 17ms/step - loss: 0.6051 - f1_m: 0.8041 - val_loss: 0.6007 - val_f1_m: 0.8079\n",
      "Epoch 4/50\n",
      "5110/5110 [==============================] - 83s 16ms/step - loss: 0.5780 - f1_m: 0.8138 - val_loss: 0.5910 - val_f1_m: 0.8132\n",
      "Epoch 5/50\n",
      "5110/5110 [==============================] - 83s 16ms/step - loss: 0.5500 - f1_m: 0.8220 - val_loss: 0.5819 - val_f1_m: 0.8160\n",
      "Epoch 6/50\n",
      "5110/5110 [==============================] - 82s 16ms/step - loss: 0.5309 - f1_m: 0.8296 - val_loss: 0.5840 - val_f1_m: 0.8175\n",
      "Epoch 7/50\n",
      "5110/5110 [==============================] - 82s 16ms/step - loss: 0.5209 - f1_m: 0.8314 - val_loss: 0.5763 - val_f1_m: 0.8221\n",
      "Epoch 8/50\n",
      "5110/5110 [==============================] - 84s 16ms/step - loss: 0.4971 - f1_m: 0.8395 - val_loss: 0.5993 - val_f1_m: 0.8177\n",
      "Epoch 9/50\n",
      "5110/5110 [==============================] - 81s 16ms/step - loss: 0.4866 - f1_m: 0.8424 - val_loss: 0.5684 - val_f1_m: 0.8238\n",
      "Epoch 10/50\n",
      "5110/5110 [==============================] - 85s 17ms/step - loss: 0.4705 - f1_m: 0.8474 - val_loss: 1.2196 - val_f1_m: 0.6504\n",
      "Epoch 11/50\n",
      "5110/5110 [==============================] - 87s 17ms/step - loss: 0.4566 - f1_m: 0.8520 - val_loss: 0.5760 - val_f1_m: 0.8234\n",
      "Epoch 12/50\n",
      "5110/5110 [==============================] - 89s 17ms/step - loss: 0.4506 - f1_m: 0.8552 - val_loss: 0.5707 - val_f1_m: 0.8242\n",
      "Epoch 13/50\n",
      "5110/5110 [==============================] - 84s 17ms/step - loss: 0.4445 - f1_m: 0.8558 - val_loss: 0.5790 - val_f1_m: 0.8243\n",
      "Epoch 14/50\n",
      "5110/5110 [==============================] - 86s 17ms/step - loss: 0.4352 - f1_m: 0.8598 - val_loss: 0.5769 - val_f1_m: 0.8239\n",
      "Epoch 15/50\n",
      "5110/5110 [==============================] - 81s 16ms/step - loss: 0.4280 - f1_m: 0.8612 - val_loss: 0.5767 - val_f1_m: 0.8253\n",
      "Epoch 16/50\n",
      "5110/5110 [==============================] - 84s 16ms/step - loss: 0.4237 - f1_m: 0.8621 - val_loss: 0.5791 - val_f1_m: 0.8287\n",
      "Epoch 17/50\n",
      "5110/5110 [==============================] - 81s 16ms/step - loss: 0.4149 - f1_m: 0.8636 - val_loss: 0.5875 - val_f1_m: 0.8235\n",
      "Epoch 18/50\n",
      "5110/5110 [==============================] - 81s 16ms/step - loss: 0.4062 - f1_m: 0.8679 - val_loss: 0.5860 - val_f1_m: 0.8252\n",
      "Epoch 19/50\n",
      "5110/5110 [==============================] - 84s 16ms/step - loss: 0.4022 - f1_m: 0.8682 - val_loss: 0.5873 - val_f1_m: 0.8253\n",
      "Restoring model weights from the end of the best epoch.\n",
      "Epoch 00019: early stopping\n",
      "Epoch 1/50\n",
      "5110/5110 [==============================] - 90s 17ms/step - loss: 0.9478 - f1_m: 0.6834 - val_loss: 0.6908 - val_f1_m: 0.7778\n",
      "Epoch 2/50\n",
      "5110/5110 [==============================] - 84s 17ms/step - loss: 0.6669 - f1_m: 0.7848 - val_loss: 0.6096 - val_f1_m: 0.8039\n",
      "Epoch 3/50\n",
      "5110/5110 [==============================] - 85s 17ms/step - loss: 0.6167 - f1_m: 0.8017 - val_loss: 0.5819 - val_f1_m: 0.8140\n",
      "Epoch 4/50\n",
      "5110/5110 [==============================] - 84s 16ms/step - loss: 0.5831 - f1_m: 0.8121 - val_loss: 0.5659 - val_f1_m: 0.8202\n",
      "Epoch 5/50\n",
      "5110/5110 [==============================] - 85s 17ms/step - loss: 0.5537 - f1_m: 0.8215 - val_loss: 0.5554 - val_f1_m: 0.8240\n",
      "Epoch 6/50\n",
      "5110/5110 [==============================] - 82s 16ms/step - loss: 0.5386 - f1_m: 0.8281 - val_loss: 0.5439 - val_f1_m: 0.8274\n",
      "Epoch 7/50\n",
      "5110/5110 [==============================] - 85s 17ms/step - loss: 0.5196 - f1_m: 0.8315 - val_loss: 0.5426 - val_f1_m: 0.8249\n",
      "Epoch 8/50\n",
      "5110/5110 [==============================] - 84s 16ms/step - loss: 0.5042 - f1_m: 0.8374 - val_loss: 0.5522 - val_f1_m: 0.8280\n",
      "Epoch 9/50\n",
      "5110/5110 [==============================] - 81s 16ms/step - loss: 0.4839 - f1_m: 0.8427 - val_loss: 0.5402 - val_f1_m: 0.8318\n",
      "Epoch 10/50\n",
      "5110/5110 [==============================] - 82s 16ms/step - loss: 0.4785 - f1_m: 0.8467 - val_loss: 0.5392 - val_f1_m: 0.8312\n",
      "Epoch 11/50\n",
      "5110/5110 [==============================] - 81s 16ms/step - loss: 0.4666 - f1_m: 0.8487 - val_loss: 0.5418 - val_f1_m: 0.8303\n",
      "Epoch 12/50\n",
      "5110/5110 [==============================] - 82s 16ms/step - loss: 0.4512 - f1_m: 0.8535 - val_loss: 0.5416 - val_f1_m: 0.8336\n",
      "Epoch 13/50\n",
      "5110/5110 [==============================] - 82s 16ms/step - loss: 0.4456 - f1_m: 0.8562 - val_loss: 0.5393 - val_f1_m: 0.8347\n",
      "Epoch 14/50\n",
      "5110/5110 [==============================] - 84s 16ms/step - loss: 0.4372 - f1_m: 0.8588 - val_loss: 0.5435 - val_f1_m: 0.8332\n",
      "Epoch 15/50\n",
      "5110/5110 [==============================] - 82s 16ms/step - loss: 0.4288 - f1_m: 0.8603 - val_loss: 0.5417 - val_f1_m: 0.8389\n",
      "Epoch 16/50\n",
      "5110/5110 [==============================] - 89s 17ms/step - loss: 0.4206 - f1_m: 0.8632 - val_loss: 0.5486 - val_f1_m: 0.8342\n",
      "Epoch 17/50\n",
      "5110/5110 [==============================] - 82s 16ms/step - loss: 0.4128 - f1_m: 0.8664 - val_loss: 0.5442 - val_f1_m: 0.8369\n",
      "Epoch 18/50\n",
      "5110/5110 [==============================] - 84s 16ms/step - loss: 0.4101 - f1_m: 0.8673 - val_loss: 0.5499 - val_f1_m: 0.8338\n",
      "Restoring model weights from the end of the best epoch.\n",
      "Epoch 00018: early stopping\n",
      "hours: 4.090872399078475\n"
     ]
    }
   ],
   "source": [
    "start_time = time.time()\n",
    "history_list = []\n",
    "models_list = []\n",
    "for fold, (idxT, idxV) in enumerate(skf.split(X_train, train['typology'].tolist())):\n",
    "    K.clear_session()\n",
    "    model = architecture_NN()\n",
    "    model.compile(loss=\"categorical_crossentropy\", optimizer=optimizers.Adam(LR), metrics=[f1_m])\n",
    "    history = model.fit(X_train[idxT], train_labels[idxT],\n",
    "                    batch_size=batch_size,\n",
    "                    epochs=num_epochs, \n",
    "                    validation_data=(X_train[idxV], train_labels[idxV]),\n",
    "                    callbacks=[es],\n",
    "                    verbose=1)\n",
    "    history_list.append(history.history)\n",
    "    models_list.append(model)\n",
    "    model.save(f\"Models_text/model_text_fold_{fold}.h5\")\n",
    "print(f\"hours: {(time.time()-start_time)/3600}\")"
   ]
  },
  {
   "cell_type": "code",
   "execution_count": 44,
   "metadata": {},
   "outputs": [],
   "source": [
    "def plot_hist(history):\n",
    "    plt.plot(history['f1_m'])\n",
    "    plt.plot(history['val_f1_m'])\n",
    "    plt.show()"
   ]
  },
  {
   "cell_type": "code",
   "execution_count": 45,
   "metadata": {
    "scrolled": true
   },
   "outputs": [
    {
     "name": "stdout",
     "output_type": "stream",
     "text": [
      "f1 for fold 1\n"
     ]
    },
    {
     "data": {
      "image/png": "[encoded data removed]",
      "text/plain": [
       "<Figure size 432x288 with 1 Axes>"
      ]
     },
     "metadata": {
      "needs_background": "light"
     },
     "output_type": "display_data"
    },
    {
     "name": "stdout",
     "output_type": "stream",
     "text": [
      "f1 for fold 2\n"
     ]
    },
    {
     "data": {
      "image/png": "[encoded data removed]",
      "text/plain": [
       "<Figure size 432x288 with 1 Axes>"
      ]
     },
     "metadata": {
      "needs_background": "light"
     },
     "output_type": "display_data"
    },
    {
     "name": "stdout",
     "output_type": "stream",
     "text": [
      "f1 for fold 3\n"
     ]
    },
    {
     "data": {
      "image/png": "[encoded data removed]",
      "text/plain": [
       "<Figure size 432x288 with 1 Axes>"
      ]
     },
     "metadata": {
      "needs_background": "light"
     },
     "output_type": "display_data"
    },
    {
     "name": "stdout",
     "output_type": "stream",
     "text": [
      "f1 for fold 4\n"
     ]
    },
    {
     "data": {
      "image/png": "[encoded data removed]",
      "text/plain": [
       "<Figure size 432x288 with 1 Axes>"
      ]
     },
     "metadata": {
      "needs_background": "light"
     },
     "output_type": "display_data"
    },
    {
     "name": "stdout",
     "output_type": "stream",
     "text": [
      "f1 for fold 5\n"
     ]
    },
    {
     "data": {
      "image/png": "[encoded data removed]",
      "text/plain": [
       "<Figure size 432x288 with 1 Axes>"
      ]
     },
     "metadata": {
      "needs_background": "light"
     },
     "output_type": "display_data"
    },
    {
     "name": "stdout",
     "output_type": "stream",
     "text": [
      "f1 for fold 6\n"
     ]
    },
    {
     "data": {
      "image/png": "[encoded data removed]",
      "text/plain": [
       "<Figure size 432x288 with 1 Axes>"
      ]
     },
     "metadata": {
      "needs_background": "light"
     },
     "output_type": "display_data"
    },
    {
     "name": "stdout",
     "output_type": "stream",
     "text": [
      "f1 for fold 7\n"
     ]
    },
    {
     "data": {
      "image/png": "[encoded data removed]",
      "text/plain": [
       "<Figure size 432x288 with 1 Axes>"
      ]
     },
     "metadata": {
      "needs_background": "light"
     },
     "output_type": "display_data"
    },
    {
     "name": "stdout",
     "output_type": "stream",
     "text": [
      "f1 for fold 8\n"
     ]
    },
    {
     "data": {
      "image/png": "[encoded data removed]",
      "text/plain": [
       "<Figure size 432x288 with 1 Axes>"
      ]
     },
     "metadata": {
      "needs_background": "light"
     },
     "output_type": "display_data"
    },
    {
     "name": "stdout",
     "output_type": "stream",
     "text": [
      "f1 for fold 9\n"
     ]
    },
    {
     "data": {
      "image/png": "[encoded data removed]",
      "text/plain": [
       "<Figure size 432x288 with 1 Axes>"
      ]
     },
     "metadata": {
      "needs_background": "light"
     },
     "output_type": "display_data"
    },
    {
     "name": "stdout",
     "output_type": "stream",
     "text": [
      "f1 for fold 10\n"
     ]
    },
    {
     "data": {
      "image/png": "[encoded data removed]",
      "text/plain": [
       "<Figure size 432x288 with 1 Axes>"
      ]
     },
     "metadata": {
      "needs_background": "light"
     },
     "output_type": "display_data"
    }
   ],
   "source": [
    "for fold, hist in enumerate(history_list):\n",
    "    print(f\"f1 for fold {fold+1}\")\n",
    "    plot_hist(hist)"
   ]
  },
  {
   "cell_type": "markdown",
   "metadata": {},
   "source": [
    "###### анализ результатов"
   ]
  },
  {
   "cell_type": "code",
   "execution_count": 13,
   "metadata": {},
   "outputs": [
    {
     "data": {
      "text/html": [
       "<div>\n",
       "<style scoped>\n",
       "    .dataframe tbody tr th:only-of-type {\n",
       "        vertical-align: middle;\n",
       "    }\n",
       "\n",
       "    .dataframe tbody tr th {\n",
       "        vertical-align: top;\n",
       "    }\n",
       "\n",
       "    .dataframe thead th {\n",
       "        text-align: right;\n",
       "    }\n",
       "</style>\n",
       "<table border=\"1\" class=\"dataframe\">\n",
       "  <thead>\n",
       "    <tr style=\"text-align: right;\">\n",
       "      <th></th>\n",
       "      <th>guid</th>\n",
       "      <th>description</th>\n",
       "      <th>typology</th>\n",
       "      <th>is_train_target</th>\n",
       "    </tr>\n",
       "  </thead>\n",
       "  <tbody>\n",
       "    <tr>\n",
       "      <th>32818</th>\n",
       "      <td>9047d760-96e3-4a44-aa37-efce65f2c106</td>\n",
       "      <td>письмо открытое самара александроневскiй кафед...</td>\n",
       "      <td>предметы печатной продукции</td>\n",
       "      <td>1</td>\n",
       "    </tr>\n",
       "    <tr>\n",
       "      <th>129308</th>\n",
       "      <td>4ff1a9cb-38ec-46b9-90b8-255f55df3898</td>\n",
       "      <td>крестэнколпион распятие св николай избранные с...</td>\n",
       "      <td>предметы прикладного искусства, быта и этнографии</td>\n",
       "      <td>1</td>\n",
       "    </tr>\n",
       "    <tr>\n",
       "      <th>101241</th>\n",
       "      <td>e4816cec-70a6-44cf-b998-153308083bf4</td>\n",
       "      <td>изразец</td>\n",
       "      <td>предметы прикладного искусства, быта и этнографии</td>\n",
       "      <td>1</td>\n",
       "    </tr>\n",
       "    <tr>\n",
       "      <th>31541</th>\n",
       "      <td>aaf61ceb-f9ad-4e96-a6c4-111cd79620a0</td>\n",
       "      <td>медаль 40 лет победы в великой отечественной в...</td>\n",
       "      <td>предметы нумизматики</td>\n",
       "      <td>1</td>\n",
       "    </tr>\n",
       "    <tr>\n",
       "      <th>7117</th>\n",
       "      <td>15051108-d1de-4e56-a59e-d693b2e14eb6</td>\n",
       "      <td>фотография портрет писателя аабсалямова</td>\n",
       "      <td>фотографии и негативы</td>\n",
       "      <td>1</td>\n",
       "    </tr>\n",
       "  </tbody>\n",
       "</table>\n",
       "</div>"
      ],
      "text/plain": [
       "                                        guid  \\\n",
       "32818   9047d760-96e3-4a44-aa37-efce65f2c106   \n",
       "129308  4ff1a9cb-38ec-46b9-90b8-255f55df3898   \n",
       "101241  e4816cec-70a6-44cf-b998-153308083bf4   \n",
       "31541   aaf61ceb-f9ad-4e96-a6c4-111cd79620a0   \n",
       "7117    15051108-d1de-4e56-a59e-d693b2e14eb6   \n",
       "\n",
       "                                              description  \\\n",
       "32818   письмо открытое самара александроневскiй кафед...   \n",
       "129308  крестэнколпион распятие св николай избранные с...   \n",
       "101241                                            изразец   \n",
       "31541   медаль 40 лет победы в великой отечественной в...   \n",
       "7117              фотография портрет писателя аабсалямова   \n",
       "\n",
       "                                                 typology  is_train_target  \n",
       "32818                         предметы печатной продукции                1  \n",
       "129308  предметы прикладного искусства, быта и этнографии                1  \n",
       "101241  предметы прикладного искусства, быта и этнографии                1  \n",
       "31541                                предметы нумизматики                1  \n",
       "7117                                фотографии и негативы                1  "
      ]
     },
     "execution_count": 13,
     "metadata": {},
     "output_type": "execute_result"
    }
   ],
   "source": [
    "valid.head()"
   ]
  },
  {
   "cell_type": "code",
   "execution_count": 13,
   "metadata": {},
   "outputs": [],
   "source": [
    "with open('Models_text/tokenizer.pickle', 'rb') as handle:\n",
    "    tokenizer = pickle.load(handle)"
   ]
  },
  {
   "cell_type": "code",
   "execution_count": 14,
   "metadata": {},
   "outputs": [],
   "source": [
    "X_valid = tokenizer.texts_to_sequences(valid[valid['description'].notnull()==True]['description'].tolist())"
   ]
  },
  {
   "cell_type": "code",
   "execution_count": 16,
   "metadata": {},
   "outputs": [],
   "source": [
    "X_valid = sequence.pad_sequences(X_valid, maxlen=max_len, padding='post')"
   ]
  },
  {
   "cell_type": "code",
   "execution_count": 18,
   "metadata": {},
   "outputs": [
    {
     "name": "stdout",
     "output_type": "stream",
     "text": [
      "Models_text/model_text_fold_0.h5\n",
      "Models_text/model_text_fold_1.h5\n",
      "Models_text/model_text_fold_2.h5\n",
      "Models_text/model_text_fold_3.h5\n",
      "Models_text/model_text_fold_4.h5\n",
      "Models_text/model_text_fold_5.h5\n",
      "Models_text/model_text_fold_6.h5\n",
      "Models_text/model_text_fold_7.h5\n",
      "Models_text/model_text_fold_8.h5\n",
      "Models_text/model_text_fold_9.h5\n"
     ]
    }
   ],
   "source": [
    "predicts = list()\n",
    "for item in os.listdir(\"Models_text/\"):\n",
    "    if item.endswith(\".h5\"):\n",
    "        print(f\"Models_text/{item}\")\n",
    "        model = tf.keras.models.load_model(f\"Models_text/{item}\", custom_objects={'f1_m': f1_m})\n",
    "        predicts.append(model.predict(X_valid))"
   ]
  },
  {
   "cell_type": "code",
   "execution_count": 25,
   "metadata": {},
   "outputs": [],
   "source": [
    "with open('Models_text/LabelEncoder.pickle', 'rb') as handle:\n",
    "    le = pickle.load(handle)"
   ]
  },
  {
   "cell_type": "code",
   "execution_count": 36,
   "metadata": {},
   "outputs": [],
   "source": [
    "valid['typology_predict'] = le.inverse_transform(np.argmax(np.array(predicts).mean(axis=0), axis=1))"
   ]
  },
  {
   "cell_type": "code",
   "execution_count": 40,
   "metadata": {},
   "outputs": [],
   "source": [
    "valid.to_csv('valid_temp.csv', index = False)"
   ]
  },
  {
   "cell_type": "code",
   "execution_count": 12,
   "metadata": {},
   "outputs": [],
   "source": [
    "valid = pd.read_csv(\"valid_temp.csv\")"
   ]
  },
  {
   "cell_type": "code",
   "execution_count": 13,
   "metadata": {},
   "outputs": [
    {
     "data": {
      "text/html": [
       "<div>\n",
       "<style scoped>\n",
       "    .dataframe tbody tr th:only-of-type {\n",
       "        vertical-align: middle;\n",
       "    }\n",
       "\n",
       "    .dataframe tbody tr th {\n",
       "        vertical-align: top;\n",
       "    }\n",
       "\n",
       "    .dataframe thead th {\n",
       "        text-align: right;\n",
       "    }\n",
       "</style>\n",
       "<table border=\"1\" class=\"dataframe\">\n",
       "  <thead>\n",
       "    <tr style=\"text-align: right;\">\n",
       "      <th></th>\n",
       "      <th>guid</th>\n",
       "      <th>description</th>\n",
       "      <th>typology</th>\n",
       "      <th>is_train_target</th>\n",
       "      <th>typology_predict</th>\n",
       "    </tr>\n",
       "  </thead>\n",
       "  <tbody>\n",
       "    <tr>\n",
       "      <th>0</th>\n",
       "      <td>9047d760-96e3-4a44-aa37-efce65f2c106</td>\n",
       "      <td>письмо открытое самара александроневскiй кафед...</td>\n",
       "      <td>предметы печатной продукции</td>\n",
       "      <td>1</td>\n",
       "      <td>предметы печатной продукции</td>\n",
       "    </tr>\n",
       "    <tr>\n",
       "      <th>1</th>\n",
       "      <td>4ff1a9cb-38ec-46b9-90b8-255f55df3898</td>\n",
       "      <td>крестэнколпион распятие св николай избранные с...</td>\n",
       "      <td>предметы прикладного искусства, быта и этнографии</td>\n",
       "      <td>1</td>\n",
       "      <td>предметы прикладного искусства, быта и этнографии</td>\n",
       "    </tr>\n",
       "    <tr>\n",
       "      <th>2</th>\n",
       "      <td>e4816cec-70a6-44cf-b998-153308083bf4</td>\n",
       "      <td>изразец</td>\n",
       "      <td>предметы прикладного искусства, быта и этнографии</td>\n",
       "      <td>1</td>\n",
       "      <td>предметы прикладного искусства, быта и этнографии</td>\n",
       "    </tr>\n",
       "    <tr>\n",
       "      <th>3</th>\n",
       "      <td>aaf61ceb-f9ad-4e96-a6c4-111cd79620a0</td>\n",
       "      <td>медаль 40 лет победы в великой отечественной в...</td>\n",
       "      <td>предметы нумизматики</td>\n",
       "      <td>1</td>\n",
       "      <td>предметы нумизматики</td>\n",
       "    </tr>\n",
       "    <tr>\n",
       "      <th>4</th>\n",
       "      <td>15051108-d1de-4e56-a59e-d693b2e14eb6</td>\n",
       "      <td>фотография портрет писателя аабсалямова</td>\n",
       "      <td>фотографии и негативы</td>\n",
       "      <td>1</td>\n",
       "      <td>фотографии и негативы</td>\n",
       "    </tr>\n",
       "  </tbody>\n",
       "</table>\n",
       "</div>"
      ],
      "text/plain": [
       "                                   guid  \\\n",
       "0  9047d760-96e3-4a44-aa37-efce65f2c106   \n",
       "1  4ff1a9cb-38ec-46b9-90b8-255f55df3898   \n",
       "2  e4816cec-70a6-44cf-b998-153308083bf4   \n",
       "3  aaf61ceb-f9ad-4e96-a6c4-111cd79620a0   \n",
       "4  15051108-d1de-4e56-a59e-d693b2e14eb6   \n",
       "\n",
       "                                         description  \\\n",
       "0  письмо открытое самара александроневскiй кафед...   \n",
       "1  крестэнколпион распятие св николай избранные с...   \n",
       "2                                            изразец   \n",
       "3  медаль 40 лет победы в великой отечественной в...   \n",
       "4            фотография портрет писателя аабсалямова   \n",
       "\n",
       "                                            typology  is_train_target  \\\n",
       "0                        предметы печатной продукции                1   \n",
       "1  предметы прикладного искусства, быта и этнографии                1   \n",
       "2  предметы прикладного искусства, быта и этнографии                1   \n",
       "3                               предметы нумизматики                1   \n",
       "4                              фотографии и негативы                1   \n",
       "\n",
       "                                    typology_predict  \n",
       "0                        предметы печатной продукции  \n",
       "1  предметы прикладного искусства, быта и этнографии  \n",
       "2  предметы прикладного искусства, быта и этнографии  \n",
       "3                               предметы нумизматики  \n",
       "4                              фотографии и негативы  "
      ]
     },
     "execution_count": 13,
     "metadata": {},
     "output_type": "execute_result"
    }
   ],
   "source": [
    "valid.head()"
   ]
  },
  {
   "cell_type": "code",
   "execution_count": 14,
   "metadata": {},
   "outputs": [
    {
     "data": {
      "text/plain": [
       "0.7584868536156736"
      ]
     },
     "execution_count": 14,
     "metadata": {},
     "output_type": "execute_result"
    }
   ],
   "source": [
    "from sklearn.metrics import f1_score\n",
    "f1_score(valid['typology'], valid['typology_predict'], average='macro')"
   ]
  },
  {
   "cell_type": "code",
   "execution_count": 15,
   "metadata": {},
   "outputs": [
    {
     "name": "stdout",
     "output_type": "stream",
     "text": [
      "предметы печатной продукции\n",
      "0.7264106211474632\n",
      "предметы прикладного искусства, быта и этнографии\n",
      "0.9029945170814002\n",
      "предметы нумизматики\n",
      "0.9719387755102041\n",
      "фотографии и негативы\n",
      "0.9326322707854091\n",
      "предметы естественнонаучной коллекции\n",
      "0.9013157894736842\n",
      "прочие\n",
      "0.31067044381491976\n",
      "предметы археологии\n",
      "0.9464285714285714\n",
      "живопись\n",
      "0.5989010989010989\n",
      "документы\n",
      "0.8721153846153846\n",
      "редкие книги\n",
      "0.8286052009456265\n",
      "графика\n",
      "0.8125802310654685\n",
      "оружие\n",
      "0.7469879518072289\n",
      "предметы техники\n",
      "0.5253164556962026\n",
      "скульптура\n",
      "0.2807017543859649\n",
      "предметы минералогической коллекции\n",
      "0.7671232876712328\n"
     ]
    }
   ],
   "source": [
    "import sklearn.metrics\n",
    "for i in valid['typology'].unique():\n",
    "    print(i)\n",
    "    print(sklearn.metrics.accuracy_score(valid.query(f\"typology=='{i}'\")['typology'], valid.query(f\"typology=='{i}'\")['typology_predict']))"
   ]
  },
  {
   "cell_type": "code",
   "execution_count": 22,
   "metadata": {},
   "outputs": [],
   "source": [
    "cm = confusion_matrix(valid['typology'], valid['typology_predict'])"
   ]
  },
  {
   "cell_type": "code",
   "execution_count": null,
   "metadata": {},
   "outputs": [],
   "source": [
    "cm."
   ]
  },
  {
   "cell_type": "code",
   "execution_count": 30,
   "metadata": {},
   "outputs": [],
   "source": [
    "from sklearn.metrics import confusion_matrix\n",
    "cm_df = pd.DataFrame(cm,\n",
    "                     index = le.classes_.tolist(), \n",
    "                     columns = le.classes_.tolist())"
   ]
  },
  {
   "cell_type": "code",
   "execution_count": 31,
   "metadata": {},
   "outputs": [
    {
     "data": {
      "text/html": [
       "<div>\n",
       "<style scoped>\n",
       "    .dataframe tbody tr th:only-of-type {\n",
       "        vertical-align: middle;\n",
       "    }\n",
       "\n",
       "    .dataframe tbody tr th {\n",
       "        vertical-align: top;\n",
       "    }\n",
       "\n",
       "    .dataframe thead th {\n",
       "        text-align: right;\n",
       "    }\n",
       "</style>\n",
       "<table border=\"1\" class=\"dataframe\">\n",
       "  <thead>\n",
       "    <tr style=\"text-align: right;\">\n",
       "      <th></th>\n",
       "      <th>графика</th>\n",
       "      <th>документы</th>\n",
       "      <th>живопись</th>\n",
       "      <th>оружие</th>\n",
       "      <th>предметы археологии</th>\n",
       "      <th>предметы естественнонаучной коллекции</th>\n",
       "      <th>предметы минералогической коллекции</th>\n",
       "      <th>предметы нумизматики</th>\n",
       "      <th>предметы печатной продукции</th>\n",
       "      <th>предметы прикладного искусства, быта и этнографии</th>\n",
       "      <th>предметы техники</th>\n",
       "      <th>прочие</th>\n",
       "      <th>редкие книги</th>\n",
       "      <th>скульптура</th>\n",
       "      <th>фотографии и негативы</th>\n",
       "    </tr>\n",
       "  </thead>\n",
       "  <tbody>\n",
       "    <tr>\n",
       "      <th>графика</th>\n",
       "      <td>1266</td>\n",
       "      <td>32</td>\n",
       "      <td>35</td>\n",
       "      <td>0</td>\n",
       "      <td>1</td>\n",
       "      <td>1</td>\n",
       "      <td>0</td>\n",
       "      <td>2</td>\n",
       "      <td>102</td>\n",
       "      <td>63</td>\n",
       "      <td>0</td>\n",
       "      <td>6</td>\n",
       "      <td>8</td>\n",
       "      <td>0</td>\n",
       "      <td>42</td>\n",
       "    </tr>\n",
       "    <tr>\n",
       "      <th>документы</th>\n",
       "      <td>38</td>\n",
       "      <td>2721</td>\n",
       "      <td>1</td>\n",
       "      <td>0</td>\n",
       "      <td>1</td>\n",
       "      <td>1</td>\n",
       "      <td>0</td>\n",
       "      <td>10</td>\n",
       "      <td>146</td>\n",
       "      <td>12</td>\n",
       "      <td>2</td>\n",
       "      <td>29</td>\n",
       "      <td>33</td>\n",
       "      <td>0</td>\n",
       "      <td>126</td>\n",
       "    </tr>\n",
       "    <tr>\n",
       "      <th>живопись</th>\n",
       "      <td>104</td>\n",
       "      <td>8</td>\n",
       "      <td>218</td>\n",
       "      <td>0</td>\n",
       "      <td>1</td>\n",
       "      <td>2</td>\n",
       "      <td>0</td>\n",
       "      <td>0</td>\n",
       "      <td>4</td>\n",
       "      <td>18</td>\n",
       "      <td>0</td>\n",
       "      <td>0</td>\n",
       "      <td>0</td>\n",
       "      <td>0</td>\n",
       "      <td>9</td>\n",
       "    </tr>\n",
       "    <tr>\n",
       "      <th>оружие</th>\n",
       "      <td>0</td>\n",
       "      <td>0</td>\n",
       "      <td>0</td>\n",
       "      <td>62</td>\n",
       "      <td>7</td>\n",
       "      <td>0</td>\n",
       "      <td>0</td>\n",
       "      <td>0</td>\n",
       "      <td>0</td>\n",
       "      <td>12</td>\n",
       "      <td>0</td>\n",
       "      <td>2</td>\n",
       "      <td>0</td>\n",
       "      <td>0</td>\n",
       "      <td>0</td>\n",
       "    </tr>\n",
       "    <tr>\n",
       "      <th>предметы археологии</th>\n",
       "      <td>4</td>\n",
       "      <td>0</td>\n",
       "      <td>2</td>\n",
       "      <td>4</td>\n",
       "      <td>2332</td>\n",
       "      <td>4</td>\n",
       "      <td>1</td>\n",
       "      <td>18</td>\n",
       "      <td>2</td>\n",
       "      <td>95</td>\n",
       "      <td>1</td>\n",
       "      <td>1</td>\n",
       "      <td>0</td>\n",
       "      <td>0</td>\n",
       "      <td>0</td>\n",
       "    </tr>\n",
       "    <tr>\n",
       "      <th>предметы естественнонаучной коллекции</th>\n",
       "      <td>3</td>\n",
       "      <td>0</td>\n",
       "      <td>0</td>\n",
       "      <td>0</td>\n",
       "      <td>11</td>\n",
       "      <td>411</td>\n",
       "      <td>15</td>\n",
       "      <td>0</td>\n",
       "      <td>0</td>\n",
       "      <td>11</td>\n",
       "      <td>0</td>\n",
       "      <td>1</td>\n",
       "      <td>1</td>\n",
       "      <td>1</td>\n",
       "      <td>2</td>\n",
       "    </tr>\n",
       "    <tr>\n",
       "      <th>предметы минералогической коллекции</th>\n",
       "      <td>1</td>\n",
       "      <td>1</td>\n",
       "      <td>0</td>\n",
       "      <td>0</td>\n",
       "      <td>5</td>\n",
       "      <td>8</td>\n",
       "      <td>112</td>\n",
       "      <td>0</td>\n",
       "      <td>3</td>\n",
       "      <td>16</td>\n",
       "      <td>0</td>\n",
       "      <td>0</td>\n",
       "      <td>0</td>\n",
       "      <td>0</td>\n",
       "      <td>0</td>\n",
       "    </tr>\n",
       "    <tr>\n",
       "      <th>предметы нумизматики</th>\n",
       "      <td>5</td>\n",
       "      <td>7</td>\n",
       "      <td>0</td>\n",
       "      <td>0</td>\n",
       "      <td>9</td>\n",
       "      <td>0</td>\n",
       "      <td>1</td>\n",
       "      <td>2286</td>\n",
       "      <td>34</td>\n",
       "      <td>4</td>\n",
       "      <td>0</td>\n",
       "      <td>4</td>\n",
       "      <td>0</td>\n",
       "      <td>0</td>\n",
       "      <td>2</td>\n",
       "    </tr>\n",
       "    <tr>\n",
       "      <th>предметы печатной продукции</th>\n",
       "      <td>99</td>\n",
       "      <td>152</td>\n",
       "      <td>2</td>\n",
       "      <td>0</td>\n",
       "      <td>1</td>\n",
       "      <td>1</td>\n",
       "      <td>0</td>\n",
       "      <td>27</td>\n",
       "      <td>1532</td>\n",
       "      <td>19</td>\n",
       "      <td>1</td>\n",
       "      <td>13</td>\n",
       "      <td>210</td>\n",
       "      <td>1</td>\n",
       "      <td>51</td>\n",
       "    </tr>\n",
       "    <tr>\n",
       "      <th>предметы прикладного искусства, быта и этнографии</th>\n",
       "      <td>17</td>\n",
       "      <td>14</td>\n",
       "      <td>14</td>\n",
       "      <td>5</td>\n",
       "      <td>92</td>\n",
       "      <td>4</td>\n",
       "      <td>0</td>\n",
       "      <td>13</td>\n",
       "      <td>10</td>\n",
       "      <td>2141</td>\n",
       "      <td>17</td>\n",
       "      <td>33</td>\n",
       "      <td>1</td>\n",
       "      <td>7</td>\n",
       "      <td>3</td>\n",
       "    </tr>\n",
       "    <tr>\n",
       "      <th>предметы техники</th>\n",
       "      <td>2</td>\n",
       "      <td>1</td>\n",
       "      <td>0</td>\n",
       "      <td>2</td>\n",
       "      <td>4</td>\n",
       "      <td>0</td>\n",
       "      <td>0</td>\n",
       "      <td>0</td>\n",
       "      <td>1</td>\n",
       "      <td>53</td>\n",
       "      <td>83</td>\n",
       "      <td>9</td>\n",
       "      <td>0</td>\n",
       "      <td>0</td>\n",
       "      <td>3</td>\n",
       "    </tr>\n",
       "    <tr>\n",
       "      <th>прочие</th>\n",
       "      <td>37</td>\n",
       "      <td>68</td>\n",
       "      <td>3</td>\n",
       "      <td>10</td>\n",
       "      <td>54</td>\n",
       "      <td>0</td>\n",
       "      <td>0</td>\n",
       "      <td>69</td>\n",
       "      <td>95</td>\n",
       "      <td>276</td>\n",
       "      <td>19</td>\n",
       "      <td>329</td>\n",
       "      <td>31</td>\n",
       "      <td>0</td>\n",
       "      <td>68</td>\n",
       "    </tr>\n",
       "    <tr>\n",
       "      <th>редкие книги</th>\n",
       "      <td>18</td>\n",
       "      <td>16</td>\n",
       "      <td>1</td>\n",
       "      <td>0</td>\n",
       "      <td>0</td>\n",
       "      <td>0</td>\n",
       "      <td>1</td>\n",
       "      <td>0</td>\n",
       "      <td>100</td>\n",
       "      <td>1</td>\n",
       "      <td>0</td>\n",
       "      <td>0</td>\n",
       "      <td>701</td>\n",
       "      <td>0</td>\n",
       "      <td>8</td>\n",
       "    </tr>\n",
       "    <tr>\n",
       "      <th>скульптура</th>\n",
       "      <td>17</td>\n",
       "      <td>0</td>\n",
       "      <td>1</td>\n",
       "      <td>0</td>\n",
       "      <td>0</td>\n",
       "      <td>1</td>\n",
       "      <td>0</td>\n",
       "      <td>1</td>\n",
       "      <td>0</td>\n",
       "      <td>19</td>\n",
       "      <td>0</td>\n",
       "      <td>0</td>\n",
       "      <td>0</td>\n",
       "      <td>16</td>\n",
       "      <td>2</td>\n",
       "    </tr>\n",
       "    <tr>\n",
       "      <th>фотографии и негативы</th>\n",
       "      <td>72</td>\n",
       "      <td>53</td>\n",
       "      <td>2</td>\n",
       "      <td>0</td>\n",
       "      <td>4</td>\n",
       "      <td>1</td>\n",
       "      <td>1</td>\n",
       "      <td>2</td>\n",
       "      <td>45</td>\n",
       "      <td>12</td>\n",
       "      <td>1</td>\n",
       "      <td>12</td>\n",
       "      <td>0</td>\n",
       "      <td>0</td>\n",
       "      <td>2838</td>\n",
       "    </tr>\n",
       "  </tbody>\n",
       "</table>\n",
       "</div>"
      ],
      "text/plain": [
       "                                                   графика  документы  \\\n",
       "графика                                               1266         32   \n",
       "документы                                               38       2721   \n",
       "живопись                                               104          8   \n",
       "оружие                                                   0          0   \n",
       "предметы археологии                                      4          0   \n",
       "предметы естественнонаучной коллекции                    3          0   \n",
       "предметы минералогической коллекции                      1          1   \n",
       "предметы нумизматики                                     5          7   \n",
       "предметы печатной продукции                             99        152   \n",
       "предметы прикладного искусства, быта и этнографии       17         14   \n",
       "предметы техники                                         2          1   \n",
       "прочие                                                  37         68   \n",
       "редкие книги                                            18         16   \n",
       "скульптура                                              17          0   \n",
       "фотографии и негативы                                   72         53   \n",
       "\n",
       "                                                   живопись  оружие  \\\n",
       "графика                                                  35       0   \n",
       "документы                                                 1       0   \n",
       "живопись                                                218       0   \n",
       "оружие                                                    0      62   \n",
       "предметы археологии                                       2       4   \n",
       "предметы естественнонаучной коллекции                     0       0   \n",
       "предметы минералогической коллекции                       0       0   \n",
       "предметы нумизматики                                      0       0   \n",
       "предметы печатной продукции                               2       0   \n",
       "предметы прикладного искусства, быта и этнографии        14       5   \n",
       "предметы техники                                          0       2   \n",
       "прочие                                                    3      10   \n",
       "редкие книги                                              1       0   \n",
       "скульптура                                                1       0   \n",
       "фотографии и негативы                                     2       0   \n",
       "\n",
       "                                                   предметы археологии  \\\n",
       "графика                                                              1   \n",
       "документы                                                            1   \n",
       "живопись                                                             1   \n",
       "оружие                                                               7   \n",
       "предметы археологии                                               2332   \n",
       "предметы естественнонаучной коллекции                               11   \n",
       "предметы минералогической коллекции                                  5   \n",
       "предметы нумизматики                                                 9   \n",
       "предметы печатной продукции                                          1   \n",
       "предметы прикладного искусства, быта и этнографии                   92   \n",
       "предметы техники                                                     4   \n",
       "прочие                                                              54   \n",
       "редкие книги                                                         0   \n",
       "скульптура                                                           0   \n",
       "фотографии и негативы                                                4   \n",
       "\n",
       "                                                   предметы естественнонаучной коллекции  \\\n",
       "графика                                                                                1   \n",
       "документы                                                                              1   \n",
       "живопись                                                                               2   \n",
       "оружие                                                                                 0   \n",
       "предметы археологии                                                                    4   \n",
       "предметы естественнонаучной коллекции                                                411   \n",
       "предметы минералогической коллекции                                                    8   \n",
       "предметы нумизматики                                                                   0   \n",
       "предметы печатной продукции                                                            1   \n",
       "предметы прикладного искусства, быта и этнографии                                      4   \n",
       "предметы техники                                                                       0   \n",
       "прочие                                                                                 0   \n",
       "редкие книги                                                                           0   \n",
       "скульптура                                                                             1   \n",
       "фотографии и негативы                                                                  1   \n",
       "\n",
       "                                                   предметы минералогической коллекции  \\\n",
       "графика                                                                              0   \n",
       "документы                                                                            0   \n",
       "живопись                                                                             0   \n",
       "оружие                                                                               0   \n",
       "предметы археологии                                                                  1   \n",
       "предметы естественнонаучной коллекции                                               15   \n",
       "предметы минералогической коллекции                                                112   \n",
       "предметы нумизматики                                                                 1   \n",
       "предметы печатной продукции                                                          0   \n",
       "предметы прикладного искусства, быта и этнографии                                    0   \n",
       "предметы техники                                                                     0   \n",
       "прочие                                                                               0   \n",
       "редкие книги                                                                         1   \n",
       "скульптура                                                                           0   \n",
       "фотографии и негативы                                                                1   \n",
       "\n",
       "                                                   предметы нумизматики  \\\n",
       "графика                                                               2   \n",
       "документы                                                            10   \n",
       "живопись                                                              0   \n",
       "оружие                                                                0   \n",
       "предметы археологии                                                  18   \n",
       "предметы естественнонаучной коллекции                                 0   \n",
       "предметы минералогической коллекции                                   0   \n",
       "предметы нумизматики                                               2286   \n",
       "предметы печатной продукции                                          27   \n",
       "предметы прикладного искусства, быта и этнографии                    13   \n",
       "предметы техники                                                      0   \n",
       "прочие                                                               69   \n",
       "редкие книги                                                          0   \n",
       "скульптура                                                            1   \n",
       "фотографии и негативы                                                 2   \n",
       "\n",
       "                                                   предметы печатной продукции  \\\n",
       "графика                                                                    102   \n",
       "документы                                                                  146   \n",
       "живопись                                                                     4   \n",
       "оружие                                                                       0   \n",
       "предметы археологии                                                          2   \n",
       "предметы естественнонаучной коллекции                                        0   \n",
       "предметы минералогической коллекции                                          3   \n",
       "предметы нумизматики                                                        34   \n",
       "предметы печатной продукции                                               1532   \n",
       "предметы прикладного искусства, быта и этнографии                           10   \n",
       "предметы техники                                                             1   \n",
       "прочие                                                                      95   \n",
       "редкие книги                                                               100   \n",
       "скульптура                                                                   0   \n",
       "фотографии и негативы                                                       45   \n",
       "\n",
       "                                                   предметы прикладного искусства, быта и этнографии  \\\n",
       "графика                                                                                           63   \n",
       "документы                                                                                         12   \n",
       "живопись                                                                                          18   \n",
       "оружие                                                                                            12   \n",
       "предметы археологии                                                                               95   \n",
       "предметы естественнонаучной коллекции                                                             11   \n",
       "предметы минералогической коллекции                                                               16   \n",
       "предметы нумизматики                                                                               4   \n",
       "предметы печатной продукции                                                                       19   \n",
       "предметы прикладного искусства, быта и этнографии                                               2141   \n",
       "предметы техники                                                                                  53   \n",
       "прочие                                                                                           276   \n",
       "редкие книги                                                                                       1   \n",
       "скульптура                                                                                        19   \n",
       "фотографии и негативы                                                                             12   \n",
       "\n",
       "                                                   предметы техники  прочие  \\\n",
       "графика                                                           0       6   \n",
       "документы                                                         2      29   \n",
       "живопись                                                          0       0   \n",
       "оружие                                                            0       2   \n",
       "предметы археологии                                               1       1   \n",
       "предметы естественнонаучной коллекции                             0       1   \n",
       "предметы минералогической коллекции                               0       0   \n",
       "предметы нумизматики                                              0       4   \n",
       "предметы печатной продукции                                       1      13   \n",
       "предметы прикладного искусства, быта и этнографии                17      33   \n",
       "предметы техники                                                 83       9   \n",
       "прочие                                                           19     329   \n",
       "редкие книги                                                      0       0   \n",
       "скульптура                                                        0       0   \n",
       "фотографии и негативы                                             1      12   \n",
       "\n",
       "                                                   редкие книги  скульптура  \\\n",
       "графика                                                       8           0   \n",
       "документы                                                    33           0   \n",
       "живопись                                                      0           0   \n",
       "оружие                                                        0           0   \n",
       "предметы археологии                                           0           0   \n",
       "предметы естественнонаучной коллекции                         1           1   \n",
       "предметы минералогической коллекции                           0           0   \n",
       "предметы нумизматики                                          0           0   \n",
       "предметы печатной продукции                                 210           1   \n",
       "предметы прикладного искусства, быта и этнографии             1           7   \n",
       "предметы техники                                              0           0   \n",
       "прочие                                                       31           0   \n",
       "редкие книги                                                701           0   \n",
       "скульптура                                                    0          16   \n",
       "фотографии и негативы                                         0           0   \n",
       "\n",
       "                                                   фотографии и негативы  \n",
       "графика                                                               42  \n",
       "документы                                                            126  \n",
       "живопись                                                               9  \n",
       "оружие                                                                 0  \n",
       "предметы археологии                                                    0  \n",
       "предметы естественнонаучной коллекции                                  2  \n",
       "предметы минералогической коллекции                                    0  \n",
       "предметы нумизматики                                                   2  \n",
       "предметы печатной продукции                                           51  \n",
       "предметы прикладного искусства, быта и этнографии                      3  \n",
       "предметы техники                                                       3  \n",
       "прочие                                                                68  \n",
       "редкие книги                                                           8  \n",
       "скульптура                                                             2  \n",
       "фотографии и негативы                                               2838  "
      ]
     },
     "execution_count": 31,
     "metadata": {},
     "output_type": "execute_result"
    }
   ],
   "source": [
    "cm_df"
   ]
  },
  {
   "cell_type": "code",
   "execution_count": 16,
   "metadata": {},
   "outputs": [
    {
     "data": {
      "text/plain": [
       "документы                                            3120\n",
       "фотографии и негативы                                3043\n",
       "предметы археологии                                  2464\n",
       "предметы прикладного искусства, быта и этнографии    2371\n",
       "предметы нумизматики                                 2352\n",
       "предметы печатной продукции                          2109\n",
       "графика                                              1558\n",
       "прочие                                               1059\n",
       "редкие книги                                          846\n",
       "предметы естественнонаучной коллекции                 456\n",
       "живопись                                              364\n",
       "предметы техники                                      158\n",
       "предметы минералогической коллекции                   146\n",
       "оружие                                                 83\n",
       "скульптура                                             57\n",
       "Name: typology, dtype: int64"
      ]
     },
     "execution_count": 16,
     "metadata": {},
     "output_type": "execute_result"
    }
   ],
   "source": [
    "valid['typology'].value_counts()"
   ]
  },
  {
   "cell_type": "code",
   "execution_count": null,
   "metadata": {},
   "outputs": [],
   "source": []
  }
 ],
 "metadata": {
  "kernelspec": {
   "display_name": "Python 3",
   "language": "python",
   "name": "python3"
  },
  "language_info": {
   "codemirror_mode": {
    "name": "ipython",
    "version": 3
   },
   "file_extension": ".py",
   "mimetype": "text/x-python",
   "name": "python",
   "nbconvert_exporter": "python",
   "pygments_lexer": "ipython3",
   "version": "3.8.5"
  }
 },
 "nbformat": 4,
 "nbformat_minor": 4
}
