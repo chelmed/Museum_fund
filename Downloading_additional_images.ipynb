{
 "cells": [
  {
   "cell_type": "code",
   "execution_count": 1,
   "metadata": {},
   "outputs": [],
   "source": [
    "import numpy as np\n",
    "import pandas as pd \n",
    "import os\n",
    "import httplib2\n",
    "from tqdm import tqdm\n",
    "import shutil\n",
    "import tensorflow as tf"
   ]
  },
  {
   "cell_type": "code",
   "execution_count": 3,
   "metadata": {},
   "outputs": [
    {
     "name": "stdout",
     "output_type": "stream",
     "text": [
      "pandas version:  1.2.2\n",
      "numpy version:  1.19.5\n",
      "tensorflow version:  2.4.1\n",
      "httplib2 version:  0.19.1\n"
     ]
    }
   ],
   "source": [
    "print(\"pandas version: \", pd.__version__)\n",
    "print(\"numpy version: \", np.__version__)\n",
    "print(\"tensorflow version: \", tf.__version__)\n",
    "print(\"httplib2 version: \", httplib2.__version__)"
   ]
  },
  {
   "cell_type": "code",
   "execution_count": 4,
   "metadata": {},
   "outputs": [],
   "source": [
    "def download_image(url, guid):\n",
    "    h = httplib2.Http('.cache')\n",
    "    response, content = h.request(url)\n",
    "    with open(f\"images_add/{guid}.jpg\", \"wb\") as f:\n",
    "        f.write(content)"
   ]
  },
  {
   "cell_type": "code",
   "execution_count": 5,
   "metadata": {},
   "outputs": [],
   "source": [
    "#фрейм с доп информацией\n",
    "train_url_only = pd.read_csv(\"train_url_only.csv\")"
   ]
  },
  {
   "cell_type": "code",
   "execution_count": 6,
   "metadata": {},
   "outputs": [],
   "source": [
    "def download_with_df(df, from_, to_, x=None):\n",
    "    if x==None:\n",
    "        print(\"taf\")\n",
    "        for index, rows in tqdm(df[df['url'].isnull()==False].iloc[from_:to_].iterrows(), total=df[df['url'].isnull()==False].iloc[from_:to_].shape[0]):\n",
    "            try:\n",
    "                download_image(rows['url'], rows['guid'])\n",
    "            except:\n",
    "                print(rows['guid'])\n",
    "    else:\n",
    "        df = df.query(f\"typology in {x}\")\n",
    "        for index, rows in tqdm(df[df['url'].isnull()==False].iloc[from_:to_].iterrows(), total=df[df['url'].isnull()==False].iloc[from_:to_].shape[0]):\n",
    "            try:\n",
    "                download_image(rows['url'], rows['guid'])\n",
    "            except:\n",
    "                print(rows['guid'])"
   ]
  },
  {
   "cell_type": "code",
   "execution_count": 7,
   "metadata": {},
   "outputs": [
    {
     "name": "stderr",
     "output_type": "stream",
     "text": [
      "100%|██████████| 71323/71323 [8:59:00<00:00,  2.21it/s]   \n"
     ]
    }
   ],
   "source": [
    "download_with_df(train_url_only, 48677, 120000, x=['фотографии и негативы', 'предметы археологии', 'предметы нумизматики', 'документы', 'предметы прикладного искусства, быта и этнографии', 'предметы печатной продукции', 'графика', 'редкие книги'])"
   ]
  },
  {
   "cell_type": "code",
   "execution_count": 8,
   "metadata": {},
   "outputs": [],
   "source": [
    "#скачиваю с 0 до конца фрейма (по индексу дф) для категорий скульптура, оружие, предметы минералогической коллекции, предметы техники, прочие, живопись, предметы естественнонаучной коллекции    \n",
    "download_with_df(train_url_only, 0, len(train_url_only), x=['скульптура', 'оружие', 'предметы минералогической коллекции', 'предметы техники', 'прочие', 'живопись', 'предметы естественнонаучной коллекции'])"
   ]
  },
  {
   "cell_type": "markdown",
   "metadata": {},
   "source": [
    "Удаляю нулевые файлы"
   ]
  },
  {
   "cell_type": "code",
   "execution_count": 21,
   "metadata": {},
   "outputs": [],
   "source": [
    "for filename in os.listdir(\"images_add\"):\n",
    "    if filename.endswith(\".jpg\"):    \n",
    "        if os.path.getsize(f\"images_add/{filename}\")==0:\n",
    "            os.remove(f\"images_add/{filename}\")"
   ]
  },
  {
   "cell_type": "markdown",
   "metadata": {},
   "source": [
    "проверка на битые файлы"
   ]
  },
  {
   "cell_type": "code",
   "execution_count": 2,
   "metadata": {},
   "outputs": [
    {
     "name": "stderr",
     "output_type": "stream",
     "text": [
      "/home/eugene/anaconda3/lib/python3.8/site-packages/PIL/JpegImagePlugin.py:791: UserWarning: Image appears to be a malformed MPO file, it will be interpreted as a base JPEG file\n",
      "  warnings.warn(\n",
      "/home/eugene/anaconda3/lib/python3.8/site-packages/PIL/Image.py:2834: DecompressionBombWarning: Image size (143075400 pixels) exceeds limit of 89478485 pixels, could be decompression bomb DOS attack.\n",
      "  warnings.warn(\n",
      "/home/eugene/anaconda3/lib/python3.8/site-packages/PIL/Image.py:2834: DecompressionBombWarning: Image size (91203840 pixels) exceeds limit of 89478485 pixels, could be decompression bomb DOS attack.\n",
      "  warnings.warn(\n"
     ]
    },
    {
     "name": "stdout",
     "output_type": "stream",
     "text": [
      "images_add/a8a34b22-cf29-4987-92dc-9615aa63c0d3.jpg\n"
     ]
    },
    {
     "name": "stderr",
     "output_type": "stream",
     "text": [
      "/home/eugene/anaconda3/lib/python3.8/site-packages/PIL/Image.py:2834: DecompressionBombWarning: Image size (124029123 pixels) exceeds limit of 89478485 pixels, could be decompression bomb DOS attack.\n",
      "  warnings.warn(\n",
      "/home/eugene/anaconda3/lib/python3.8/site-packages/PIL/Image.py:2834: DecompressionBombWarning: Image size (91630500 pixels) exceeds limit of 89478485 pixels, could be decompression bomb DOS attack.\n",
      "  warnings.warn(\n",
      "/home/eugene/anaconda3/lib/python3.8/site-packages/PIL/Image.py:2834: DecompressionBombWarning: Image size (97173120 pixels) exceeds limit of 89478485 pixels, could be decompression bomb DOS attack.\n",
      "  warnings.warn(\n",
      "/home/eugene/anaconda3/lib/python3.8/site-packages/PIL/Image.py:2834: DecompressionBombWarning: Image size (172962790 pixels) exceeds limit of 89478485 pixels, could be decompression bomb DOS attack.\n",
      "  warnings.warn(\n"
     ]
    },
    {
     "name": "stdout",
     "output_type": "stream",
     "text": [
      "images_add/d1649c1a-add1-4137-b680-ccfa8f480ded.jpg\n"
     ]
    },
    {
     "name": "stderr",
     "output_type": "stream",
     "text": [
      "/home/eugene/anaconda3/lib/python3.8/site-packages/PIL/Image.py:2834: DecompressionBombWarning: Image size (124851632 pixels) exceeds limit of 89478485 pixels, could be decompression bomb DOS attack.\n",
      "  warnings.warn(\n",
      "/home/eugene/anaconda3/lib/python3.8/site-packages/PIL/Image.py:2834: DecompressionBombWarning: Image size (97667360 pixels) exceeds limit of 89478485 pixels, could be decompression bomb DOS attack.\n",
      "  warnings.warn(\n"
     ]
    }
   ],
   "source": [
    "for filename in os.listdir(\"images_add\"):\n",
    "    if filename.endswith(\".jpg\"):\n",
    "        try:\n",
    "            img = tf.keras.preprocessing.image.load_img(f\"images_add/{filename}\")\n",
    "        except:\n",
    "            print(f\"images_add/{filename}\")\n",
    "            shutil.move(f\"images_add/{filename}\", 'trash_images')"
   ]
  },
  {
   "cell_type": "markdown",
   "metadata": {},
   "source": [
    "перемещение доп фото в основной каталог "
   ]
  },
  {
   "cell_type": "code",
   "execution_count": 3,
   "metadata": {},
   "outputs": [],
   "source": [
    "for filename in os.listdir(\"images_add\"):\n",
    "    shutil.move(f\"images_add/{filename}\", 'images')"
   ]
  },
  {
   "cell_type": "code",
   "execution_count": 8,
   "metadata": {},
   "outputs": [],
   "source": [
    "#Итого: 141467 изображений"
   ]
  },
  {
   "cell_type": "code",
   "execution_count": null,
   "metadata": {},
   "outputs": [],
   "source": []
  }
 ],
 "metadata": {
  "kernelspec": {
   "display_name": "Python 3",
   "language": "python",
   "name": "python3"
  },
  "language_info": {
   "codemirror_mode": {
    "name": "ipython",
    "version": 3
   },
   "file_extension": ".py",
   "mimetype": "text/x-python",
   "name": "python",
   "nbconvert_exporter": "python",
   "pygments_lexer": "ipython3",
   "version": "3.8.5"
  }
 },
 "nbformat": 4,
 "nbformat_minor": 4
}
