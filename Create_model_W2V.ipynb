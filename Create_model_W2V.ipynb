{
 "cells": [
  {
   "cell_type": "code",
   "execution_count": 1,
   "metadata": {},
   "outputs": [],
   "source": [
    "import pandas as pd\n",
    "import numpy as np\n",
    "import string\n",
    "import random\n",
    "import time\n",
    "\n",
    "import gensim\n",
    "from gensim.models import Word2Vec"
   ]
  },
  {
   "cell_type": "code",
   "execution_count": 2,
   "metadata": {},
   "outputs": [
    {
     "name": "stdout",
     "output_type": "stream",
     "text": [
      "pandas version:  1.2.2\n",
      "numpy version:  1.19.5\n",
      "gensim version:  4.0.1\n"
     ]
    }
   ],
   "source": [
    "print(\"pandas version: \", pd.__version__)\n",
    "print(\"numpy version: \", np.__version__)\n",
    "print(\"gensim version: \", gensim.__version__)\n"
   ]
  },
  {
   "cell_type": "code",
   "execution_count": 3,
   "metadata": {},
   "outputs": [],
   "source": [
    "seed=42    \n",
    "random.seed(seed)\n",
    "np.random.seed(seed)"
   ]
  },
  {
   "cell_type": "code",
   "execution_count": 4,
   "metadata": {},
   "outputs": [],
   "source": [
    "train = pd.read_csv('train.csv')\n",
    "train_url_only = pd.read_csv(\"train_url_only.csv\")"
   ]
  },
  {
   "cell_type": "code",
   "execution_count": 5,
   "metadata": {},
   "outputs": [],
   "source": [
    "train =  pd.concat([train[['guid', 'description']], train_url_only[['guid', 'description']]])\n",
    "train.drop_duplicates(subset=['description'], keep='first', inplace=True)"
   ]
  },
  {
   "cell_type": "code",
   "execution_count": 6,
   "metadata": {},
   "outputs": [],
   "source": [
    "def RemovePunctuation(text):\n",
    "    if str(text)!='nan':\n",
    "        text = text.lower()\n",
    "        translator = str.maketrans('', '', string.punctuation)\n",
    "        return text.translate(translator)\n",
    "    else:\n",
    "        return text"
   ]
  },
  {
   "cell_type": "code",
   "execution_count": 7,
   "metadata": {},
   "outputs": [],
   "source": [
    "train['description'] = train['description'].apply(lambda x: RemovePunctuation(x))"
   ]
  },
  {
   "cell_type": "code",
   "execution_count": 8,
   "metadata": {},
   "outputs": [],
   "source": [
    "corpus = list()\n",
    "for i in train['description'].tolist():\n",
    "    corpus.append(i.split())"
   ]
  },
  {
   "cell_type": "code",
   "execution_count": 9,
   "metadata": {},
   "outputs": [
    {
     "name": "stdout",
     "output_type": "stream",
     "text": [
      "hours: 1.868223884569274\n"
     ]
    }
   ],
   "source": [
    "start_time = time.time()\n",
    "model = Word2Vec(\n",
    "        sentences=corpus,\n",
    "        vector_size=100, \n",
    "        window=7, #5\n",
    "        min_count=3, \n",
    "        sg=1, #skip-gram\n",
    "        negative=6, #4\n",
    "        epochs=4000, \n",
    "        seed=seed,\n",
    "        workers=6)\n",
    "\n",
    "print(f\"hours: {(time.time()-start_time)/3600}\")"
   ]
  },
  {
   "cell_type": "code",
   "execution_count": 26,
   "metadata": {},
   "outputs": [],
   "source": [
    "model.wv.save_word2vec_format(\"Models_text/w2v2.vec\")"
   ]
  },
  {
   "cell_type": "code",
   "execution_count": null,
   "metadata": {},
   "outputs": [],
   "source": []
  }
 ],
 "metadata": {
  "kernelspec": {
   "display_name": "Python 3",
   "language": "python",
   "name": "python3"
  },
  "language_info": {
   "codemirror_mode": {
    "name": "ipython",
    "version": 3
   },
   "file_extension": ".py",
   "mimetype": "text/x-python",
   "name": "python",
   "nbconvert_exporter": "python",
   "pygments_lexer": "ipython3",
   "version": "3.8.5"
  }
 },
 "nbformat": 4,
 "nbformat_minor": 4
}
