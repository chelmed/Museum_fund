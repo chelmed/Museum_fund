{
 "cells": [
  {
   "cell_type": "code",
   "execution_count": 1,
   "metadata": {},
   "outputs": [],
   "source": [
    "import numpy as np\n",
    "import pandas as pd\n",
    "from matplotlib import pyplot as plt\n",
    "import efficientnet.tfkeras as efn\n",
    "import os\n",
    "import string\n",
    "import pickle\n",
    "import tensorflow as tf\n",
    "from tensorflow.keras.preprocessing.image import ImageDataGenerator, img_to_array\n",
    "from tensorflow.keras.preprocessing import sequence\n",
    "from tensorflow.keras import backend as K\n",
    "import tensorflow.keras.layers as L"
   ]
  },
  {
   "cell_type": "code",
   "execution_count": 2,
   "metadata": {},
   "outputs": [],
   "source": [
    "os.environ['TF_FORCE_GPU_ALLOW_GROWTH'] = 'true' #gpu"
   ]
  },
  {
   "cell_type": "code",
   "execution_count": 3,
   "metadata": {},
   "outputs": [
    {
     "name": "stdout",
     "output_type": "stream",
     "text": [
      "pandas version:  1.2.2\n",
      "numpy version:  1.19.5\n",
      "tensorflow version:  2.4.1\n"
     ]
    }
   ],
   "source": [
    "print(\"pandas version: \", pd.__version__)\n",
    "print(\"numpy version: \", np.__version__)\n",
    "print(\"tensorflow version: \", tf.__version__)"
   ]
  },
  {
   "cell_type": "code",
   "execution_count": 4,
   "metadata": {},
   "outputs": [],
   "source": [
    "def recall_m(y_true, y_pred):\n",
    "    true_positives = K.sum(K.round(K.clip(y_true * y_pred, 0, 1)))\n",
    "    possible_positives = K.sum(K.round(K.clip(y_true, 0, 1)))\n",
    "    recall = true_positives / (possible_positives + K.epsilon())\n",
    "    return recall\n",
    "\n",
    "def precision_m(y_true, y_pred):\n",
    "    true_positives = K.sum(K.round(K.clip(y_true * y_pred, 0, 1)))\n",
    "    predicted_positives = K.sum(K.round(K.clip(y_pred, 0, 1)))\n",
    "    precision = true_positives / (predicted_positives + K.epsilon())\n",
    "    return precision\n",
    "\n",
    "def f1_m(y_true, y_pred):\n",
    "    precision = precision_m(y_true, y_pred)\n",
    "    recall = recall_m(y_true, y_pred)\n",
    "    return 2*((precision*recall)/(precision+recall+K.epsilon()))"
   ]
  },
  {
   "cell_type": "code",
   "execution_count": 5,
   "metadata": {},
   "outputs": [],
   "source": [
    "test = pd.read_csv('test.csv')"
   ]
  },
  {
   "cell_type": "code",
   "execution_count": 6,
   "metadata": {},
   "outputs": [],
   "source": [
    "def RemovePunctuation(text):\n",
    "    if str(text)!='nan':\n",
    "        text = text.lower()\n",
    "        translator = str.maketrans('', '', string.punctuation)\n",
    "        return text.translate(translator)\n",
    "    else:\n",
    "        return text"
   ]
  },
  {
   "cell_type": "code",
   "execution_count": 7,
   "metadata": {},
   "outputs": [],
   "source": [
    "with open('Models_text/LabelEncoder.pickle', 'rb') as handle:\n",
    "    le = pickle.load(handle)"
   ]
  },
  {
   "cell_type": "code",
   "execution_count": 8,
   "metadata": {},
   "outputs": [],
   "source": [
    "test['description'] = test['description'].apply(lambda x: RemovePunctuation(x)) "
   ]
  },
  {
   "cell_type": "code",
   "execution_count": 9,
   "metadata": {},
   "outputs": [],
   "source": [
    "with open('Models_text/tokenizer.pickle', 'rb') as handle:\n",
    "    tokenizer = pickle.load(handle)"
   ]
  },
  {
   "cell_type": "code",
   "execution_count": 10,
   "metadata": {},
   "outputs": [],
   "source": [
    "### text"
   ]
  },
  {
   "cell_type": "code",
   "execution_count": 11,
   "metadata": {},
   "outputs": [],
   "source": [
    "max_len = 80\n",
    "X_test = tokenizer.texts_to_sequences(test[test['description'].notnull()==True]['description'].tolist())\n",
    "X_test = sequence.pad_sequences(X_test, maxlen=max_len, padding='post')"
   ]
  },
  {
   "cell_type": "code",
   "execution_count": 12,
   "metadata": {},
   "outputs": [
    {
     "name": "stdout",
     "output_type": "stream",
     "text": [
      "Models_text/model_text_fold_0.h5\n",
      "Models_text/model_text_fold_1.h5\n",
      "Models_text/model_text_fold_2.h5\n",
      "Models_text/model_text_fold_3.h5\n",
      "Models_text/model_text_fold_4.h5\n",
      "Models_text/model_text_fold_5.h5\n",
      "Models_text/model_text_fold_6.h5\n",
      "Models_text/model_text_fold_7.h5\n",
      "Models_text/model_text_fold_8.h5\n",
      "Models_text/model_text_fold_9.h5\n"
     ]
    }
   ],
   "source": [
    "#получим прогнз по все фолдм\n",
    "predicts = list()\n",
    "for item in os.listdir(\"Models_text/\"):\n",
    "    if item.endswith(\".h5\"):\n",
    "        print(f\"Models_text/{item}\")\n",
    "        model = tf.keras.models.load_model(f\"Models_text/{item}\", custom_objects={'f1_m': f1_m})\n",
    "        predicts.append(model.predict(X_test))"
   ]
  },
  {
   "cell_type": "code",
   "execution_count": 13,
   "metadata": {},
   "outputs": [],
   "source": [
    "dictionary_predict_LSTM = dict(\n",
    "                                        zip(\n",
    "                                            test[test['description'].notnull()==True]['guid'].tolist(), \n",
    "                                            np.array(predicts).mean(axis=0)\n",
    "                                           )\n",
    "                                        )"
   ]
  },
  {
   "cell_type": "markdown",
   "metadata": {},
   "source": [
    "### images"
   ]
  },
  {
   "cell_type": "code",
   "execution_count": 17,
   "metadata": {},
   "outputs": [],
   "source": [
    "test['image_id'] = test['guid'] + '.jpg'"
   ]
  },
  {
   "cell_type": "code",
   "execution_count": 18,
   "metadata": {},
   "outputs": [],
   "source": [
    "datagen = ImageDataGenerator(rescale=1. / 511)"
   ]
  },
  {
   "cell_type": "code",
   "execution_count": 19,
   "metadata": {},
   "outputs": [],
   "source": [
    "list_images = list()\n",
    "for filename in os.listdir(\"images\"):\n",
    "    if filename.endswith(\".jpg\"):\n",
    "        list_images.append(filename)"
   ]
  },
  {
   "cell_type": "code",
   "execution_count": 20,
   "metadata": {},
   "outputs": [],
   "source": [
    "test['have_image'] = test['image_id'].apply(lambda x: 1 if x in list_images else 0)"
   ]
  },
  {
   "cell_type": "code",
   "execution_count": 21,
   "metadata": {},
   "outputs": [
    {
     "name": "stdout",
     "output_type": "stream",
     "text": [
      "Found 1117 validated image filenames.\n"
     ]
    }
   ],
   "source": [
    "total_generator = datagen.flow_from_dataframe(\n",
    "    dataframe=test.query(\"have_image==1\"),\n",
    "    directory=\"images\",\n",
    "    x_col=\"image_id\",\n",
    "    target_size=(512, 512),\n",
    "    batch_size=8,\n",
    "    class_mode=None,\n",
    "    shuffle=False, \n",
    "    seed=42)"
   ]
  },
  {
   "cell_type": "code",
   "execution_count": 22,
   "metadata": {},
   "outputs": [],
   "source": [
    "model = tf.keras.models.load_model(f\"Models_images/long_models_for_inference/model_images_2.h5\", custom_objects={'f1_m': f1_m})\n",
    "predict = model.predict(total_generator)"
   ]
  },
  {
   "cell_type": "code",
   "execution_count": 23,
   "metadata": {},
   "outputs": [],
   "source": [
    "dictionary_predict_images = dict(\n",
    "                                zip(\n",
    "                                    test[test['have_image']==1]['guid'].tolist(), \n",
    "                                    predict\n",
    "                                    )\n",
    "                                  )"
   ]
  },
  {
   "cell_type": "code",
   "execution_count": 24,
   "metadata": {},
   "outputs": [],
   "source": [
    "def final_predict_typology(x):\n",
    "    if str(x) in dictionary_predict_images.keys() and str(x) not in dictionary_predict_LSTM.keys():\n",
    "        return le.inverse_transform([np.argmax(dictionary_predict_images[str(x)], axis=0)])[0]\n",
    "    elif str(x) not in dictionary_predict_images.keys() and str(x) in dictionary_predict_LSTM.keys():\n",
    "        return le.inverse_transform([np.argmax(dictionary_predict_LSTM[str(x)], axis=0)])[0]\n",
    "    elif str(x) in dictionary_predict_images.keys() and str(x) in dictionary_predict_LSTM.keys():\n",
    "        if dictionary_predict_LSTM[str(x)].max() >= 0.7:\n",
    "            return le.inverse_transform([np.argmax(dictionary_predict_LSTM[str(x)], axis=0)])[0]\n",
    "        elif dictionary_predict_images[str(x)].max() >= 0.7: \n",
    "            return le.inverse_transform([np.argmax(dictionary_predict_images[str(x)], axis=0)])[0]\n",
    "        else:\n",
    "            return le.inverse_transform([np.argmax(np.vstack((dictionary_predict_LSTM[str(x)], dictionary_predict_images[str(x)])).mean(axis=0), axis=0)])[0]\n",
    "    else: return 'документы'"
   ]
  },
  {
   "cell_type": "code",
   "execution_count": 25,
   "metadata": {},
   "outputs": [],
   "source": [
    "test['typology'] = test['guid'].apply(lambda x: final_predict_typology(x))"
   ]
  },
  {
   "cell_type": "code",
   "execution_count": 26,
   "metadata": {},
   "outputs": [],
   "source": [
    "test[['guid', 'typology']].to_csv('submission.csv', index = False)"
   ]
  },
  {
   "cell_type": "code",
   "execution_count": 27,
   "metadata": {},
   "outputs": [
    {
     "data": {
      "text/html": [
       "<div>\n",
       "<style scoped>\n",
       "    .dataframe tbody tr th:only-of-type {\n",
       "        vertical-align: middle;\n",
       "    }\n",
       "\n",
       "    .dataframe tbody tr th {\n",
       "        vertical-align: top;\n",
       "    }\n",
       "\n",
       "    .dataframe thead th {\n",
       "        text-align: right;\n",
       "    }\n",
       "</style>\n",
       "<table border=\"1\" class=\"dataframe\">\n",
       "  <thead>\n",
       "    <tr style=\"text-align: right;\">\n",
       "      <th></th>\n",
       "      <th>guid</th>\n",
       "      <th>description</th>\n",
       "      <th>typology</th>\n",
       "      <th>image_id</th>\n",
       "      <th>have_image</th>\n",
       "    </tr>\n",
       "  </thead>\n",
       "  <tbody>\n",
       "    <tr>\n",
       "      <th>0</th>\n",
       "      <td>a74014d7-3054-45bd-b284-ac117ccd2001</td>\n",
       "      <td>NaN</td>\n",
       "      <td>предметы нумизматики</td>\n",
       "      <td>a74014d7-3054-45bd-b284-ac117ccd2001.jpg</td>\n",
       "      <td>1</td>\n",
       "    </tr>\n",
       "    <tr>\n",
       "      <th>1</th>\n",
       "      <td>783eab83-a48c-4950-996a-386fe93a3ccd</td>\n",
       "      <td>образец волос удмурты</td>\n",
       "      <td>предметы прикладного искусства, быта и этнографии</td>\n",
       "      <td>783eab83-a48c-4950-996a-386fe93a3ccd.jpg</td>\n",
       "      <td>1</td>\n",
       "    </tr>\n",
       "    <tr>\n",
       "      <th>2</th>\n",
       "      <td>8e7e2514-fab3-4287-be06-aae93c5397e0</td>\n",
       "      <td>NaN</td>\n",
       "      <td>графика</td>\n",
       "      <td>8e7e2514-fab3-4287-be06-aae93c5397e0.jpg</td>\n",
       "      <td>1</td>\n",
       "    </tr>\n",
       "    <tr>\n",
       "      <th>3</th>\n",
       "      <td>dc1964ce-9248-4fe7-9d4b-c110ac270f64</td>\n",
       "      <td>фрески фрагмент фон из комплекта фресок фрагме...</td>\n",
       "      <td>живопись</td>\n",
       "      <td>dc1964ce-9248-4fe7-9d4b-c110ac270f64.jpg</td>\n",
       "      <td>1</td>\n",
       "    </tr>\n",
       "    <tr>\n",
       "      <th>4</th>\n",
       "      <td>1dd23c5e-bf5d-45b7-9894-07bfdf91ae80</td>\n",
       "      <td>афиша королевские цветы муз а рыбникова вороне...</td>\n",
       "      <td>документы</td>\n",
       "      <td>1dd23c5e-bf5d-45b7-9894-07bfdf91ae80.jpg</td>\n",
       "      <td>0</td>\n",
       "    </tr>\n",
       "    <tr>\n",
       "      <th>5</th>\n",
       "      <td>094e1f33-5488-43be-b7b7-e595a9a3a054</td>\n",
       "      <td>NaN</td>\n",
       "      <td>предметы нумизматики</td>\n",
       "      <td>094e1f33-5488-43be-b7b7-e595a9a3a054.jpg</td>\n",
       "      <td>1</td>\n",
       "    </tr>\n",
       "    <tr>\n",
       "      <th>6</th>\n",
       "      <td>280d15c6-9331-4f7b-9a59-8e488f93d870</td>\n",
       "      <td>этюд пароход на реке</td>\n",
       "      <td>живопись</td>\n",
       "      <td>280d15c6-9331-4f7b-9a59-8e488f93d870.jpg</td>\n",
       "      <td>1</td>\n",
       "    </tr>\n",
       "    <tr>\n",
       "      <th>7</th>\n",
       "      <td>c3d3a4fc-c0bd-43e6-ac98-6c502bb7e793</td>\n",
       "      <td>фотооткрытка актер балакирев а в жизни</td>\n",
       "      <td>документы</td>\n",
       "      <td>c3d3a4fc-c0bd-43e6-ac98-6c502bb7e793.jpg</td>\n",
       "      <td>0</td>\n",
       "    </tr>\n",
       "    <tr>\n",
       "      <th>8</th>\n",
       "      <td>552acc89-76e2-4e1d-9035-9ef287ac600e</td>\n",
       "      <td>документ учетная карточка на мобилизованного к...</td>\n",
       "      <td>документы</td>\n",
       "      <td>552acc89-76e2-4e1d-9035-9ef287ac600e.jpg</td>\n",
       "      <td>1</td>\n",
       "    </tr>\n",
       "    <tr>\n",
       "      <th>9</th>\n",
       "      <td>2f281a43-71e7-450b-b4c6-0373bb944f17</td>\n",
       "      <td>NaN</td>\n",
       "      <td>предметы печатной продукции</td>\n",
       "      <td>2f281a43-71e7-450b-b4c6-0373bb944f17.jpg</td>\n",
       "      <td>1</td>\n",
       "    </tr>\n",
       "    <tr>\n",
       "      <th>10</th>\n",
       "      <td>034fe150-9386-4088-9728-a45ff6d3ad8b</td>\n",
       "      <td>NaN</td>\n",
       "      <td>предметы минералогической коллекции</td>\n",
       "      <td>034fe150-9386-4088-9728-a45ff6d3ad8b.jpg</td>\n",
       "      <td>1</td>\n",
       "    </tr>\n",
       "    <tr>\n",
       "      <th>11</th>\n",
       "      <td>3b064d46-4349-4608-8ad0-3aa1965149b1</td>\n",
       "      <td>NaN</td>\n",
       "      <td>предметы печатной продукции</td>\n",
       "      <td>3b064d46-4349-4608-8ad0-3aa1965149b1.jpg</td>\n",
       "      <td>1</td>\n",
       "    </tr>\n",
       "    <tr>\n",
       "      <th>12</th>\n",
       "      <td>473daa96-0e41-449d-8076-bf9adfd3f396</td>\n",
       "      <td>нагрудный знак победитель соцсоревнования 1976 г</td>\n",
       "      <td>предметы нумизматики</td>\n",
       "      <td>473daa96-0e41-449d-8076-bf9adfd3f396.jpg</td>\n",
       "      <td>1</td>\n",
       "    </tr>\n",
       "    <tr>\n",
       "      <th>13</th>\n",
       "      <td>7ac0e95c-2157-4373-95ba-f14cf9abd33c</td>\n",
       "      <td>кирпич рогатый миниатюрный</td>\n",
       "      <td>предметы археологии</td>\n",
       "      <td>7ac0e95c-2157-4373-95ba-f14cf9abd33c.jpg</td>\n",
       "      <td>0</td>\n",
       "    </tr>\n",
       "    <tr>\n",
       "      <th>14</th>\n",
       "      <td>20029a89-3d62-408e-bb15-afe50265c53f</td>\n",
       "      <td>диафильм для детей «конек – горбунок часть 4»</td>\n",
       "      <td>предметы техники</td>\n",
       "      <td>20029a89-3d62-408e-bb15-afe50265c53f.jpg</td>\n",
       "      <td>1</td>\n",
       "    </tr>\n",
       "    <tr>\n",
       "      <th>15</th>\n",
       "      <td>4b0c86b1-f12e-4347-a0af-b88e422a1826</td>\n",
       "      <td>NaN</td>\n",
       "      <td>предметы техники</td>\n",
       "      <td>4b0c86b1-f12e-4347-a0af-b88e422a1826.jpg</td>\n",
       "      <td>1</td>\n",
       "    </tr>\n",
       "    <tr>\n",
       "      <th>16</th>\n",
       "      <td>93a61ff7-61d9-428f-91aa-fdf61e9a8ab1</td>\n",
       "      <td>афиша с исполнителями испанский священник челя...</td>\n",
       "      <td>документы</td>\n",
       "      <td>93a61ff7-61d9-428f-91aa-fdf61e9a8ab1.jpg</td>\n",
       "      <td>0</td>\n",
       "    </tr>\n",
       "    <tr>\n",
       "      <th>17</th>\n",
       "      <td>f7714873-4be5-4e4a-9bf2-5051221e6426</td>\n",
       "      <td>удостоверение младшего советника юстиции кравч...</td>\n",
       "      <td>документы</td>\n",
       "      <td>f7714873-4be5-4e4a-9bf2-5051221e6426.jpg</td>\n",
       "      <td>1</td>\n",
       "    </tr>\n",
       "    <tr>\n",
       "      <th>18</th>\n",
       "      <td>7b6a052f-7cec-4966-b684-517f1cbb8e06</td>\n",
       "      <td>колокольчик поддужный</td>\n",
       "      <td>предметы прикладного искусства, быта и этнографии</td>\n",
       "      <td>7b6a052f-7cec-4966-b684-517f1cbb8e06.jpg</td>\n",
       "      <td>1</td>\n",
       "    </tr>\n",
       "    <tr>\n",
       "      <th>19</th>\n",
       "      <td>25de735d-d2be-47be-a98c-d3c3282f295f</td>\n",
       "      <td>ступа</td>\n",
       "      <td>предметы прикладного искусства, быта и этнографии</td>\n",
       "      <td>25de735d-d2be-47be-a98c-d3c3282f295f.jpg</td>\n",
       "      <td>1</td>\n",
       "    </tr>\n",
       "  </tbody>\n",
       "</table>\n",
       "</div>"
      ],
      "text/plain": [
       "                                    guid  \\\n",
       "0   a74014d7-3054-45bd-b284-ac117ccd2001   \n",
       "1   783eab83-a48c-4950-996a-386fe93a3ccd   \n",
       "2   8e7e2514-fab3-4287-be06-aae93c5397e0   \n",
       "3   dc1964ce-9248-4fe7-9d4b-c110ac270f64   \n",
       "4   1dd23c5e-bf5d-45b7-9894-07bfdf91ae80   \n",
       "5   094e1f33-5488-43be-b7b7-e595a9a3a054   \n",
       "6   280d15c6-9331-4f7b-9a59-8e488f93d870   \n",
       "7   c3d3a4fc-c0bd-43e6-ac98-6c502bb7e793   \n",
       "8   552acc89-76e2-4e1d-9035-9ef287ac600e   \n",
       "9   2f281a43-71e7-450b-b4c6-0373bb944f17   \n",
       "10  034fe150-9386-4088-9728-a45ff6d3ad8b   \n",
       "11  3b064d46-4349-4608-8ad0-3aa1965149b1   \n",
       "12  473daa96-0e41-449d-8076-bf9adfd3f396   \n",
       "13  7ac0e95c-2157-4373-95ba-f14cf9abd33c   \n",
       "14  20029a89-3d62-408e-bb15-afe50265c53f   \n",
       "15  4b0c86b1-f12e-4347-a0af-b88e422a1826   \n",
       "16  93a61ff7-61d9-428f-91aa-fdf61e9a8ab1   \n",
       "17  f7714873-4be5-4e4a-9bf2-5051221e6426   \n",
       "18  7b6a052f-7cec-4966-b684-517f1cbb8e06   \n",
       "19  25de735d-d2be-47be-a98c-d3c3282f295f   \n",
       "\n",
       "                                          description  \\\n",
       "0                                                 NaN   \n",
       "1                               образец волос удмурты   \n",
       "2                                                 NaN   \n",
       "3   фрески фрагмент фон из комплекта фресок фрагме...   \n",
       "4   афиша королевские цветы муз а рыбникова вороне...   \n",
       "5                                                 NaN   \n",
       "6                                этюд пароход на реке   \n",
       "7              фотооткрытка актер балакирев а в жизни   \n",
       "8   документ учетная карточка на мобилизованного к...   \n",
       "9                                                 NaN   \n",
       "10                                                NaN   \n",
       "11                                                NaN   \n",
       "12   нагрудный знак победитель соцсоревнования 1976 г   \n",
       "13                         кирпич рогатый миниатюрный   \n",
       "14      диафильм для детей «конек – горбунок часть 4»   \n",
       "15                                                NaN   \n",
       "16  афиша с исполнителями испанский священник челя...   \n",
       "17  удостоверение младшего советника юстиции кравч...   \n",
       "18                              колокольчик поддужный   \n",
       "19                                              ступа   \n",
       "\n",
       "                                             typology  \\\n",
       "0                                предметы нумизматики   \n",
       "1   предметы прикладного искусства, быта и этнографии   \n",
       "2                                             графика   \n",
       "3                                            живопись   \n",
       "4                                           документы   \n",
       "5                                предметы нумизматики   \n",
       "6                                            живопись   \n",
       "7                                           документы   \n",
       "8                                           документы   \n",
       "9                         предметы печатной продукции   \n",
       "10                предметы минералогической коллекции   \n",
       "11                        предметы печатной продукции   \n",
       "12                               предметы нумизматики   \n",
       "13                                предметы археологии   \n",
       "14                                   предметы техники   \n",
       "15                                   предметы техники   \n",
       "16                                          документы   \n",
       "17                                          документы   \n",
       "18  предметы прикладного искусства, быта и этнографии   \n",
       "19  предметы прикладного искусства, быта и этнографии   \n",
       "\n",
       "                                    image_id  have_image  \n",
       "0   a74014d7-3054-45bd-b284-ac117ccd2001.jpg           1  \n",
       "1   783eab83-a48c-4950-996a-386fe93a3ccd.jpg           1  \n",
       "2   8e7e2514-fab3-4287-be06-aae93c5397e0.jpg           1  \n",
       "3   dc1964ce-9248-4fe7-9d4b-c110ac270f64.jpg           1  \n",
       "4   1dd23c5e-bf5d-45b7-9894-07bfdf91ae80.jpg           0  \n",
       "5   094e1f33-5488-43be-b7b7-e595a9a3a054.jpg           1  \n",
       "6   280d15c6-9331-4f7b-9a59-8e488f93d870.jpg           1  \n",
       "7   c3d3a4fc-c0bd-43e6-ac98-6c502bb7e793.jpg           0  \n",
       "8   552acc89-76e2-4e1d-9035-9ef287ac600e.jpg           1  \n",
       "9   2f281a43-71e7-450b-b4c6-0373bb944f17.jpg           1  \n",
       "10  034fe150-9386-4088-9728-a45ff6d3ad8b.jpg           1  \n",
       "11  3b064d46-4349-4608-8ad0-3aa1965149b1.jpg           1  \n",
       "12  473daa96-0e41-449d-8076-bf9adfd3f396.jpg           1  \n",
       "13  7ac0e95c-2157-4373-95ba-f14cf9abd33c.jpg           0  \n",
       "14  20029a89-3d62-408e-bb15-afe50265c53f.jpg           1  \n",
       "15  4b0c86b1-f12e-4347-a0af-b88e422a1826.jpg           1  \n",
       "16  93a61ff7-61d9-428f-91aa-fdf61e9a8ab1.jpg           0  \n",
       "17  f7714873-4be5-4e4a-9bf2-5051221e6426.jpg           1  \n",
       "18  7b6a052f-7cec-4966-b684-517f1cbb8e06.jpg           1  \n",
       "19  25de735d-d2be-47be-a98c-d3c3282f295f.jpg           1  "
      ]
     },
     "execution_count": 27,
     "metadata": {},
     "output_type": "execute_result"
    }
   ],
   "source": [
    "test.head(20)"
   ]
  },
  {
   "cell_type": "code",
   "execution_count": null,
   "metadata": {},
   "outputs": [],
   "source": []
  }
 ],
 "metadata": {
  "kernelspec": {
   "display_name": "Python 3",
   "language": "python",
   "name": "python3"
  },
  "language_info": {
   "codemirror_mode": {
    "name": "ipython",
    "version": 3
   },
   "file_extension": ".py",
   "mimetype": "text/x-python",
   "name": "python",
   "nbconvert_exporter": "python",
   "pygments_lexer": "ipython3",
   "version": "3.8.5"
  }
 },
 "nbformat": 4,
 "nbformat_minor": 4
}
